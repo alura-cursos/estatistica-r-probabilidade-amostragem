{
 "cells": [
  {
   "cell_type": "markdown",
   "metadata": {
    "id": "qxah03ikONCD"
   },
   "source": [
    "# **Sobre o notebook**\n",
    "\n",
    "Aproveite esse espaço para as atividades do curso de **Estatística com R: aplicando a probabilidade e amostragem dos dados** da Alura. Aqui você pode escrever e testar os códigos dos diversos exercícios do **Mão na Massa** envolvendo os aprendizados de cada aula.\n",
    "\n",
    "Este notebook foi construído com espaços para adicionar as células dos desafios propostos no curso, com eles você tem espaço para construir e executar suas soluções.\n"
   ]
  },
  {
   "cell_type": "markdown",
   "metadata": {
    "id": "IA3M1eso_L2Z"
   },
   "source": [
    "## **Aula 01 - Distribuição Binomial**"
   ]
  },
  {
   "cell_type": "markdown",
   "metadata": {
    "id": "AmpR_VE4CImQ"
   },
   "source": [
    "### **Mão na Massa - Consultoria na Atacadão Fácil**\n",
    "\n",
    "\n"
   ]
  },
  {
   "cell_type": "markdown",
   "metadata": {
    "id": "k2YfI6iDYmo4"
   },
   "source": [
    "A loja atacadista **Atacadão Fácil** está interessada em otimizar suas operações e entender melhor o comportamento de suas vendas e estoques. Para isso, contratou sua consultoria para resolver três desafios importantes."
   ]
  },
  {
   "cell_type": "markdown",
   "metadata": {
    "id": "QDUU7jVGiMiZ"
   },
   "source": [
    "#### Case 1: Pacotes promocionais\n",
    "\n",
    "A Atacadão Fácil oferece pacotes promocionais compostos por **5 produtos populares**. A loja tem **12 produtos** na categoria \"utilidades domésticas\" e quer saber quantas combinações diferentes de pacotes podem ser montadas com esses produtos, para oferecer variedade nas promoções.\n",
    "\n",
    "* Calcule o **número de combinações possíveis** de pacotes, considerando que a ordem dos produtos no pacote não importa.\n",
    "* Sabendo que temos itens únicos, calcule também a probabilidade de sair o pacote promocional de `{Arroz, Feijão, Sal, Açúcar, Óleo}`\n"
   ]
  },
  {
   "cell_type": "code",
   "execution_count": null,
   "metadata": {
    "colab": {
     "base_uri": "https://localhost:8080/",
     "height": 34
    },
    "id": "ZruvypSoO6oP",
    "outputId": "6406399c-e8a8-4f90-9baa-8f04a04859e8",
    "vscode": {
     "languageId": "r"
    }
   },
   "outputs": [],
   "source": []
  },
  {
   "cell_type": "code",
   "execution_count": null,
   "metadata": {
    "colab": {
     "base_uri": "https://localhost:8080/"
    },
    "id": "tJD2u7_rLf_O",
    "outputId": "506928c9-e152-4e32-d3f5-5e28ef7bf463",
    "vscode": {
     "languageId": "r"
    }
   },
   "outputs": [],
   "source": []
  },
  {
   "cell_type": "markdown",
   "metadata": {
    "id": "22pbEbEZiTMC"
   },
   "source": [
    "#### Case 2: Devolução de pedidos\n",
    "\n",
    "A loja observou que, em média, **20% dos pedidos** realizados online têm alguma devolução por insatisfação ou avaria. Dado que, em uma semana específica, foram realizados **20 pedidos online**, a Atacadão Fácil deseja entender a probabilidade de ocorrerem no **máximo 5 devoluções**.\n",
    "\n",
    "* Calcule a probabilidade de haver no máximo 5 devoluções entre os 20 pedidos online."
   ]
  },
  {
   "cell_type": "code",
   "execution_count": null,
   "metadata": {
    "colab": {
     "base_uri": "https://localhost:8080/",
     "height": 34
    },
    "id": "YKEMmIc0WACb",
    "outputId": "a9e015d1-2ad7-4d92-c915-f276fb78cd5e",
    "vscode": {
     "languageId": "r"
    }
   },
   "outputs": [],
   "source": []
  },
  {
   "cell_type": "markdown",
   "metadata": {
    "id": "mPX0HG4diTPH"
   },
   "source": [
    "#### Case 3: Estimativa da média de pedidos atrasados\n",
    "\n",
    "A Atacadão Fácil também quer entender melhor o problema de atrasos nas entregas. A equipe identificou que, em média, **10% dos pedidos** feitos na cidade de Fortaleza atrasam.\n",
    "\n",
    "Sabendo que na cidade tem-se **10 lojas** e eles projetam realizar uma média de **100 pedidos** por dia em cada uma, quantas dessas podemos esperar que tenham **mais de 10 atrasos** para planejar a equipe de atendimento ao cliente.\n",
    "\n",
    "* Calcule o número de lojas com atrasos acima do esperado usando a média da distribuição binomial.\n"
   ]
  },
  {
   "cell_type": "code",
   "execution_count": null,
   "metadata": {
    "colab": {
     "base_uri": "https://localhost:8080/"
    },
    "id": "wN0_cal1O6FJ",
    "outputId": "505b2ed0-6981-4f9d-de88-eef6e4a11bd9",
    "vscode": {
     "languageId": "r"
    }
   },
   "outputs": [],
   "source": []
  },
  {
   "cell_type": "markdown",
   "metadata": {
    "id": "ix1N_JAH_T1C"
   },
   "source": [
    "## **Aula 02 - Distribuição de Poisson**"
   ]
  },
  {
   "cell_type": "markdown",
   "metadata": {
    "id": "J_4eNIp7i6Rh"
   },
   "source": [
    "### **Mão na Massa - Consultoria na Móveis Empresa & Lar**"
   ]
  },
  {
   "cell_type": "markdown",
   "metadata": {
    "id": "0rBGP9HaAQJj"
   },
   "source": [
    "Somos consultores da empresa **Móveis Empresa & Lar** que fabrica móveis para residências e escritórios e fomos chamados para analisar diferentes aspectos relacionados à produção, vendas e qualidade dos produtos. Nosso objetivo é ajudar a empresa a entender melhor seus processos operacionais e melhorar suas estratégias de atendimento e prospecção. Vamos resolver três desafios usando a **distribuição de Poisson**."
   ]
  },
  {
   "cell_type": "markdown",
   "metadata": {
    "id": "TOv2WJHri6Rh"
   },
   "source": [
    "#### Case 1: Tempo de Produção de uma Peça\n",
    "\n",
    "A indústria produz um número médio de **5 mesas de escritório por hora**. A equipe quer saber a probabilidade de que, em uma hora, a produção seja **de até 3 mesas**. Esse cálculo ajudará a avaliar o risco de queda na produtividade e a planejar ações de suporte, como revezamento de equipes ou ajustes na linha de produção.\n",
    "\n",
    "* Calcule a probabilidade de produzir **3 ou menos mesas em uma hora** usando a distribuição de Poisson\n"
   ]
  },
  {
   "cell_type": "code",
   "execution_count": null,
   "metadata": {
    "colab": {
     "base_uri": "https://localhost:8080/"
    },
    "id": "pZDBGlQsi6Ri",
    "outputId": "716f0d95-8083-42e9-fb5e-efdd84985677",
    "vscode": {
     "languageId": "r"
    }
   },
   "outputs": [],
   "source": []
  },
  {
   "cell_type": "markdown",
   "metadata": {
    "id": "JGoT_dqUi6Rj"
   },
   "source": [
    "#### Case 2: Prospecção de Clientes\n",
    "\n",
    "O setor comercial da indústria de móveis tem, em média, **8 novos clientes prospectados por dia**. A diretoria deseja saber a probabilidade de que, em um determinado dia, o número de clientes prospectados seja **maior que 10**. Esse número indicaria um dia acima da média, ajudando a equipe a prever momentos de alta demanda por atenção.\n",
    "\n",
    "* Calcule a probabilidade de prospectar **mais de 10 clientes** em um dia usando a distribuição de Poisson."
   ]
  },
  {
   "cell_type": "code",
   "execution_count": null,
   "metadata": {
    "colab": {
     "base_uri": "https://localhost:8080/"
    },
    "id": "WFF13YXAi6Rk",
    "outputId": "a866b3fc-17c3-4ca5-c42e-12092b8db40b",
    "vscode": {
     "languageId": "r"
    }
   },
   "outputs": [],
   "source": []
  },
  {
   "cell_type": "markdown",
   "metadata": {
    "id": "cy1s7XHgi6Rk"
   },
   "source": [
    "#### Case 3: Número máximo de defeitos permitidos\n",
    "\n",
    "No setor de produção, a média histórica é de **2 peças defeituosas por lote de 100 unidades**. Para melhorar o controle de qualidade e garantir que o número de defeitos não ultrapasse um limite aceitável, a equipe de qualidade quer determinar o **número máximo de defeitos** que podem ser esperados **em 90% dos lotes produzidos**, ou seja, o quantil de 90% para o número de defeitos.\n",
    "\n",
    "* Calcule o número máximo de defeitos para 90% dos lotes produzidos com taxa média de 2 defeitos por lote.\n",
    "\n",
    "> **Obs:** este valor indica o número máximo de defeitos que esperamos em 90% dos lotes, permitindo ajustar o processo e definir padrões de controle de qualidade mais rigorosos.\n"
   ]
  },
  {
   "cell_type": "code",
   "execution_count": null,
   "metadata": {
    "colab": {
     "base_uri": "https://localhost:8080/",
     "height": 34
    },
    "id": "VoWkE5cMi6Rl",
    "outputId": "d6fefbfb-57b7-4235-ce7a-62ba453cacc1",
    "vscode": {
     "languageId": "r"
    }
   },
   "outputs": [],
   "source": []
  },
  {
   "cell_type": "markdown",
   "metadata": {
    "id": "1uTAdILB_T6m"
   },
   "source": [
    "## **Aula 03 - Distribuição Normal**"
   ]
  },
  {
   "cell_type": "markdown",
   "metadata": {
    "id": "vJ0a5l-Di79U"
   },
   "source": [
    "### **Mão na Massa - Consultoria na Good Flight**"
   ]
  },
  {
   "cell_type": "markdown",
   "metadata": {
    "id": "PMLKZccBh7GT"
   },
   "source": [
    "Em um estudo sobre a duração dos voos de uma ponte aérea entre duas cidades, a equipe de análise da companhia aérea identificou que o tempo das viagens segue uma distribuição normal. A **média da duração dos voos é de 120 minutos**, com um **desvio padrão de 20 minutos**. Como consultores, vamos ajudar a equipe a entender melhor esses dados para otimizar a comunicação com os passageiros e ajustar as expectativas de viagem.\n"
   ]
  },
  {
   "cell_type": "markdown",
   "metadata": {
    "id": "dQWS5w_yi79V"
   },
   "source": [
    "#### Case 1: Identificando voos mais curtos\n",
    "\n",
    "A equipe quer saber a probabilidade de um voo durar **menos de 110 minutos**. Esse cálculo ajudará a equipe a entender com que frequência os voos ficam abaixo do tempo esperado, o que pode ser útil para planejar situações de atrasos e antecipações.\n",
    "\n",
    "* Calcule a probabilidade de um voo durar **menos de 110 minutos** usando a distribuição normal\n"
   ]
  },
  {
   "cell_type": "code",
   "execution_count": null,
   "metadata": {
    "colab": {
     "base_uri": "https://localhost:8080/"
    },
    "id": "QZFEhPdnqRi3",
    "outputId": "964df8e6-8928-40ef-fa30-3822a9a41940",
    "vscode": {
     "languageId": "r"
    }
   },
   "outputs": [],
   "source": []
  },
  {
   "cell_type": "markdown",
   "metadata": {
    "id": "lAUEwmAzi79W"
   },
   "source": [
    "#### Case 2: Estimando voos de duração prolongada\n",
    "\n",
    "Agora, precisamos calcular a probabilidade de um voo durar **mais de 90 minutos**. Esse dado ajudará a companhia a avaliar o quão raro ou comum é um voo prolongar-se para além de um tempo específico.\n",
    "\n",
    "* Calcule a probabilidade de um voo durar **mais de 90 minutos** usando a distribuição normal"
   ]
  },
  {
   "cell_type": "code",
   "execution_count": null,
   "metadata": {
    "colab": {
     "base_uri": "https://localhost:8080/"
    },
    "id": "kdNgk30Ti79X",
    "outputId": "ec5239a9-2bb7-41e5-f03d-202c926a129f",
    "vscode": {
     "languageId": "r"
    }
   },
   "outputs": [],
   "source": []
  },
  {
   "cell_type": "markdown",
   "metadata": {
    "id": "1vi1QAwmi79Y"
   },
   "source": [
    "#### Case 3: Estabelecendo a duração para a maioria das viagens\n",
    "\n",
    "Por fim, queremos saber a **duração mínima para 80% das viagens**, ou seja, determinar o valor de tempo que garanta que 80% dos voos durem pelo menos essa quantidade de minutos.\n",
    "\n",
    "* Calcule a duração mínima de voos para 80% dos casos usando a distribuição normal\n",
    "\n",
    "> Obs: Neste case, precisamos obter o Z que satisfaz a condição e depois fazer a transformação de Z para x. Para calcular o Z nesta situação utilize a função `qnorm()` passando o percentil desejado. Lembre-se que estamos buscando a duração mínima, ou seja, temos que passar o complementar para o valor de Z\n"
   ]
  },
  {
   "cell_type": "code",
   "execution_count": null,
   "metadata": {
    "colab": {
     "base_uri": "https://localhost:8080/"
    },
    "id": "hu-PjG_2i79Y",
    "outputId": "cec67775-15e3-4b44-839e-d6f752e33389",
    "vscode": {
     "languageId": "r"
    }
   },
   "outputs": [],
   "source": []
  },
  {
   "cell_type": "markdown",
   "metadata": {
    "id": "i_X1NcH9_T-u"
   },
   "source": [
    "## **Aula 04 - Estimação**"
   ]
  },
  {
   "cell_type": "markdown",
   "metadata": {
    "id": "hd7f_bUIi8ty"
   },
   "source": [
    "### **Mão na Massa - Analisando dados de atletas em um campeonato de tênis**"
   ]
  },
  {
   "cell_type": "markdown",
   "metadata": {
    "id": "_PehOjjeVL1Y"
   },
   "source": [
    "Como cientistas de dados consultores, estamos trabalhando com dados de atletas de alto nível de um campeonato de tênis para traçar um perfil detalhado sobre o tempo de treino diário, peso e consumo calórico desses atletas. A partir das análises, buscamos fornecer insights para otimizar o treinamento e ajustar o planejamento nutricional, com o objetivo de melhorar o desempenho dos atletas.\n",
    "\n",
    "Sabemos que as variáveis tempo de treino diário, peso e calorias consumidas diariamente são aproximadamente normais, o que nos permite usar técnicas inferenciais para responder aos cases abaixo.\n"
   ]
  },
  {
   "cell_type": "markdown",
   "metadata": {
    "id": "OPz0qnAdi8tz"
   },
   "source": [
    "#### Case 1: Tempo médio de treino diário\n",
    "\n",
    "Com base nos registros de tempo de treino diário, notamos que o tempo de treino desses atletas seguia uma curva aproximadamente normal com **desvio padrão populacional de 1,5 horas**. Foi coletada uma **amostra de 50 treinos**, onde a média amostral do tempo de treino diário obtida foi de **8 horas**\n",
    "\n",
    "* Construa o **intervalo de confiança** para a média do tempo de treino diário dos atletas, considerando um **nível de significância de 10%**.\n"
   ]
  },
  {
   "cell_type": "code",
   "execution_count": null,
   "metadata": {
    "colab": {
     "base_uri": "https://localhost:8080/"
    },
    "id": "AJhTb3rDi8t0",
    "outputId": "5d0aac8b-d22b-46b7-870c-fa026c5e3ee3",
    "vscode": {
     "languageId": "r"
    }
   },
   "outputs": [],
   "source": []
  },
  {
   "cell_type": "markdown",
   "metadata": {
    "id": "ycsBr55bi8t0"
   },
   "source": [
    "#### Case 2: Margem de erro para o peso dos tenistas\n",
    "\n",
    "Como parte do levantamento dos perfis dos atletas, queremos entender a média de peso dos tenistas. Com base em anotações recentes, notamos que o peso desses atletas seguia uma curva aproximadamente normal com **desvio padrão de 5 kg**. Para uma **amostra de 60 registros** temos a média do **peso dos atletas de 78 kg**\n",
    "\n",
    "* Calcule a margem de erro para a estimativa da média de peso dos tenistas, assumindo um **nível de confiança de 95%**.\n"
   ]
  },
  {
   "cell_type": "code",
   "execution_count": null,
   "metadata": {
    "colab": {
     "base_uri": "https://localhost:8080/"
    },
    "id": "T6yQAML_smqa",
    "outputId": "e2281070-d95c-4042-ac96-37a709308adb",
    "vscode": {
     "languageId": "r"
    }
   },
   "outputs": [],
   "source": []
  },
  {
   "cell_type": "markdown",
   "metadata": {
    "id": "cmtxG82ci8t2"
   },
   "source": [
    "#### Case 3: Intervalo de confiança para o consumo diário de calorias\n",
    "\n",
    "Para a adequação nutricional dos atletas, queremos estimar o consumo médio diário de calorias e verificar se está dentro da recomendação nutricional de (**2.532,9 kcal**). Com base em anotações de uma **amostra de 100 registros**, notamos que as caloria consumidas desses atletas seguia uma curva aproximadamente normal com **média amostral de 2.500 kcal** e  **desvio padrão amostral de 200 kcal**.\n",
    "\n",
    "* Construa o intervalo de confiança para a média de calorias consumidas diariamente pelos atletas, assumindo um **nível de significância de 1%**."
   ]
  },
  {
   "cell_type": "code",
   "execution_count": null,
   "metadata": {
    "colab": {
     "base_uri": "https://localhost:8080/"
    },
    "id": "tmuDaMTii8t2",
    "outputId": "e0666d5b-dc63-41fe-e6a6-fc0c867e78ac",
    "vscode": {
     "languageId": "r"
    }
   },
   "outputs": [],
   "source": []
  },
  {
   "cell_type": "markdown",
   "metadata": {
    "id": "8oiQ6DsahpRv"
   },
   "source": [
    "## **Aula 05 - Cálculo do tamanho da amostra**"
   ]
  },
  {
   "cell_type": "markdown",
   "metadata": {
    "id": "41X1NLZpi9Z_"
   },
   "source": [
    "### **Mão na Massa - Amostragem para pesquisa de uma empresa**"
   ]
  },
  {
   "cell_type": "markdown",
   "metadata": {
    "id": "iBC8rHu8MJw5"
   },
   "source": [
    "Uma grande empresa de tecnologia deseja realizar uma pesquisa para obter insights detalhados sobre duas categorias de despesas dos seus funcionários:\n",
    "1. As despesas médicas anuais das famílias de todos os empregados.\n",
    "2. Os gastos com transporte por meio de um aplicativo de mobilidade para deslocamento dos coordenadores de área, na modalidade corporativa.\n",
    "\n",
    "Como cientistas de dados consultores, nossa tarefa é avaliar o tamanho da amostra necessária para garantir que as estimativas estejam dentro de uma margem de erro aceitável e com um nível de confiança adequado. Para cada caso, consideramos os valores de desvio padrão indicados por estudos-piloto realizados previamente.\n"
   ]
  },
  {
   "cell_type": "markdown",
   "metadata": {
    "id": "DIhxg4k3i9aA"
   },
   "source": [
    "#### Case 1: Despesas médicas anuais das famílias dos funcionários\n",
    "A empresa está empenhada em entender as despesas médicas anuais das famílias de seus funcionários para apoiar suas políticas de benefícios e planejamento orçamentário. Para garantir que as estimativas sejam precisas e representem bem a população, o departamento de RH, juntamente com a equipe de ciência de dados, está realizando uma pesquisa para estimar a média dessas despesas anuais com um **nível de confiança de 95%**. Estudos-piloto sugeriram que o desvio padrão dessas despesas é de **R$ 300,00**.\n",
    "\n",
    "* Calcule:\n",
    "O tamanho da amostra para atender às necessidades de planejamento orçamentário em que a média amostral dessas despesas tenha uma **margem de erro de até R\\$ 50,00** em relação à média populacional real com um **nível de confiança de 95%**.\n",
    "A gerência expressou interesse em reduzir a margem de erro para **R\\$ 25,00**, caso se decida por um planejamento ainda mais detalhado das despesas médicas. Recalcule o tamanho de amostra necessário para garantir essa precisão.\n"
   ]
  },
  {
   "cell_type": "code",
   "execution_count": null,
   "metadata": {
    "colab": {
     "base_uri": "https://localhost:8080/"
    },
    "id": "OfLzmnsfi9aB",
    "outputId": "d1223705-3c8e-4afb-a02a-832f4df0231e",
    "vscode": {
     "languageId": "r"
    }
   },
   "outputs": [],
   "source": []
  },
  {
   "cell_type": "markdown",
   "metadata": {
    "id": "lZajGdV8i9aC"
   },
   "source": [
    "#### Case 2: Gastos com transporte corporativo para coordenadores\n",
    "A empresa oferece um benefício de transporte corporativo para facilitar os deslocamentos dos coordenadores de área entre reuniões e locais de trabalho. A empresa conta com **100 coordenadores de área** e, recentemente, houve interesse em entender melhor os custos anuais associados a esse benefício, a fim de avaliar a sustentabilidade e eficiência do programa de transporte corporativo. Utilizando os dados de um estudo-piloto, que apontou um **desvio-padrão de R$ 200,00** nos gastos com transporte, a empresa quer estimar a média anual desses gastos com um **nível de confiança de 90%**.\n",
    "\n",
    "* Calcule:\n",
    "Para uma visão geral dos gastos, a empresa quer que a **margem de erro seja de até 10%** da média real dos gastos anuais. Com esses dados, precisamos calcular o tamanho de amostra necessário para garantir essa precisão com **90% de confiança**.\n",
    "Caso seja decidido que é necessária uma maior precisão, a gerência considerou reduzir a **margem de erro para 5%** da média real dos gastos. Vamos calcular o tamanho de amostra necessário para atender a essa nova margem de erro, mantendo o **nível de confiança de 90%**.\n",
    "\n",
    "> Obs: Utilize a média real do estudo-piloto de valor **R$ 1.000,00** anuais.\n"
   ]
  },
  {
   "cell_type": "code",
   "execution_count": null,
   "metadata": {
    "colab": {
     "base_uri": "https://localhost:8080/"
    },
    "id": "cQ0EJrd9i9aC",
    "outputId": "463338fe-9d10-4df2-aab6-f012d8ab5126",
    "vscode": {
     "languageId": "r"
    }
   },
   "outputs": [],
   "source": []
  }
 ],
 "metadata": {
  "colab": {
   "collapsed_sections": [
    "QDUU7jVGiMiZ",
    "22pbEbEZiTMC",
    "mPX0HG4diTPH",
    "TOv2WJHri6Rh",
    "JGoT_dqUi6Rj",
    "cy1s7XHgi6Rk"
   ],
   "provenance": []
  },
  "kernelspec": {
   "display_name": "R",
   "name": "ir"
  },
  "language_info": {
   "name": "R"
  },
  "orig_nbformat": 4
 },
 "nbformat": 4,
 "nbformat_minor": 0
}
