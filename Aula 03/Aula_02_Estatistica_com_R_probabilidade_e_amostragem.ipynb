{
 "cells": [
  {
   "cell_type": "markdown",
   "metadata": {
    "id": "1Ij6xDJE_ggJ"
   },
   "source": [
    "# <font size=6>**Estatística com R: probabilidade e amostragem**</font>"
   ]
  },
  {
   "cell_type": "markdown",
   "metadata": {
    "id": "hEI3qc1sABmA"
   },
   "source": [
    "Estamos atuando como **cientistas de dados** em uma empresa que presta consultoria a muitas empresas das mais diversas áreas.\n",
    "\n",
    "Aqui, precisaremos utilizar uma série de conceitos da estatística para investigar e auxiliar nos problemas e demandas que essas empresas estão enfrentando, baseando suas decisões na análise dos dados recebidos.\n",
    "\n",
    "Neste projeto, vamos ter acesso a resultados de pesquisas e dados levantados por times de marketing, atendimento ao cliente, logística entre outros.\n",
    "\n",
    "**Desafio**\n",
    "\n",
    "Nosso desafio é aplicar os conceitos de diferentes **distribuições, calcular probabilidades, realizar amostragens e estimar resultados** para cada caso trazido por essas empresas para que possa agregar valor aos times e ajudar nos processos de decisão. Para isso, serão repassados alguns questionamentos que foram separados para que nós possamos contribuir na execução dessa demanda.\n",
    "\n",
    "Vamos utilizar a **linguagem R** para responder todos os questionamentos levantados."
   ]
  },
  {
   "cell_type": "markdown",
   "metadata": {
    "id": "0sTQjqX6ALOn"
   },
   "source": [
    "## **Iniciando o projeto**"
   ]
  },
  {
   "cell_type": "code",
   "execution_count": null,
   "metadata": {
    "colab": {
     "base_uri": "https://localhost:8080/"
    },
    "id": "4P3rE7Nv_eEs",
    "outputId": "95f41924-ee31-4b5e-a2a8-d07c34bd3214",
    "vscode": {
     "languageId": "r"
    }
   },
   "outputs": [
    {
     "name": "stderr",
     "output_type": "stream",
     "text": [
      "\n",
      "Attaching package: ‘dplyr’\n",
      "\n",
      "\n",
      "The following objects are masked from ‘package:stats’:\n",
      "\n",
      "    filter, lag\n",
      "\n",
      "\n",
      "The following objects are masked from ‘package:base’:\n",
      "\n",
      "    intersect, setdiff, setequal, union\n",
      "\n",
      "\n"
     ]
    }
   ],
   "source": [
    "# Importando os pacotes do projeto\n",
    "library(dplyr)\n",
    "library(ggplot2)\n",
    "options(repr.matrix.max.rows = 10)"
   ]
  },
  {
   "cell_type": "markdown",
   "metadata": {
    "id": "lt_BGgPKEQ0F"
   },
   "source": [
    "\n",
    "Muitas ferramentas estatísticas e técnicas utilizadas na análise de dados são baseadas em **probabilidade**.\n",
    "\n",
    "A probabilidade mede o quão provável um evento ocorra em uma escala de **0** (o evento nunca ocorre) a **1** (o evento sempre ocorre).\n",
    "\n",
    "Ao trabalhar com dados, as variáveis em um conjunto de dados (e.g. idade, sexo biológico, avaliação, etc.) podem ser consideradas **variáveis aleatórias**: variam devido ao acaso. Uma **distribuição de probabilidade**, como aprenderemos neste curso, descreve como uma variável aleatória é distribuída;\n",
    "\n",
    "Vamos focar aqui em 3 delas:\n",
    "\n",
    "-   Distribuição Binomial\n",
    "\n",
    "-   Distribuição de Poisson\n",
    "\n",
    "-   Distribuição Normal\n",
    "\n",
    "Em estatística, cada distribuição de probabilidade tem a sua própria forma e pode ser utilizada para modelar diferentes tipos de eventos aleatórios. Para aprender sobre cada uma delas vamos responder aos questionamentos de diversas empresas utilizando a linguagem R.\n",
    "\n",
    "Vamos nessa?"
   ]
  },
  {
   "cell_type": "markdown",
   "metadata": {
    "id": "zpsYZ_kkAVkp"
   },
   "source": [
    "# **1. Distribuição binomial**\n",
    "\n",
    "---\n",
    "\n"
   ]
  },
  {
   "cell_type": "markdown",
   "metadata": {
    "id": "iT_adbfKAfKm"
   },
   "source": [
    "Nesta aula, vamos trabalhar com exemplos de problemas que envolvem distribuições binomiais. Mas, antes disso, vamos responder ao primeiro case trazido pelo time de marketing de uma grande empresa do e-commerce, chamada Zoop."
   ]
  },
  {
   "cell_type": "markdown",
   "metadata": {
    "id": "S7F1TSHrAe8P"
   },
   "source": [
    "## **1.1 Calculando as combinações possíveis**\n",
    "\n",
    "---\n",
    "\n"
   ]
  },
  {
   "cell_type": "markdown",
   "metadata": {
    "id": "bnjpptkDAsXn"
   },
   "source": [
    "### <font color=\"#E23155\" face=\"Verdana\">Case 1: Combinando ofertas de produtos</font>"
   ]
  },
  {
   "cell_type": "markdown",
   "metadata": {
    "id": "KutzmvX8Ef8V"
   },
   "source": [
    "A Zoop está planejando uma grande campanha promocional para impulsionar as vendas de fim de ano, que incluirá pacotes de produtos para promoções de Black Friday e Natal.\n",
    "\n",
    "O time de marketing decidiu combinar diferentes produtos em pacotes atrativos. A campanha envolve a seleção de **10 produtos** diferentes, criando pacotes promocionais de **3 produtos cada**. O time precisa saber quantas combinações de pacotes são possíveis e como podemos calcular esse valor."
   ]
  },
  {
   "cell_type": "markdown",
   "metadata": {
    "id": "sr9upil-EkCd"
   },
   "source": [
    "### **Combinação sem repetição:**\n",
    "\n",
    "A fórmula matemática para encontrar o número de combinações de $n$ objetos, tomados $k$ a cada vez, é:\n",
    "\n",
    "$$C_{k}^{n} = \\binom{n}{k} = \\frac{n!}{k!(n - k)!}$$\n",
    "\n",
    "Onde:\n",
    "\n",
    "$$n! = n\\times(n-1)\\times(n-2)\\times...\\times(2)\\times(1)$$\n",
    "\n",
    "$$k! = k\\times(k-1)\\times(k-2)\\times...\\times(2)\\times(1)$$\n",
    "\n",
    "Por definição:\n",
    "\n",
    "$$0! = 1$$"
   ]
  },
  {
   "cell_type": "markdown",
   "metadata": {
    "id": "5ssmf6nboY8s"
   },
   "source": [
    "### <font color=\"#E23155\" face=\"Verdana\">Solução:</font>"
   ]
  },
  {
   "cell_type": "markdown",
   "metadata": {
    "id": "iJQf1DdpFVUM"
   },
   "source": [
    "> **Documentações:**\n",
    ">\n",
    "> - [**choose**](https://www.rdocumentation.org/packages/base/versions/3.6.1/topics/Special)\n"
   ]
  },
  {
   "cell_type": "markdown",
   "metadata": {
    "id": "cmMyUXDzIGph"
   },
   "source": [
    "Voltando ao problema, a fórmula da nossa combinação seria a seguinte:\n",
    "\n",
    "&nbsp;\n",
    "\n",
    "$$C_{3}^{10} = \\binom{10}{3} = \\frac{10!}{3!(10 - 3)!}$$\n",
    "\n",
    "&nbsp;\n",
    "\n",
    "Utilizando o R, podemos resolver esse problema de forma prática, por meio da função `choose()`."
   ]
  },
  {
   "cell_type": "code",
   "execution_count": null,
   "metadata": {
    "id": "DCc-DedcHSjT",
    "vscode": {
     "languageId": "r"
    }
   },
   "outputs": [],
   "source": [
    "n <- 10  # nº de produtos\n",
    "k <- 3   # nº de produtos por pacote"
   ]
  },
  {
   "cell_type": "code",
   "execution_count": null,
   "metadata": {
    "colab": {
     "base_uri": "https://localhost:8080/",
     "height": 34
    },
    "id": "NHnp3LgoF7jU",
    "outputId": "35e7ed85-a4ba-4828-e6d4-f7fbbc29aa8a",
    "vscode": {
     "languageId": "r"
    }
   },
   "outputs": [
    {
     "data": {
      "text/html": [
       "120"
      ],
      "text/latex": [
       "120"
      ],
      "text/markdown": [
       "120"
      ],
      "text/plain": [
       "[1] 120"
      ]
     },
     "metadata": {},
     "output_type": "display_data"
    }
   ],
   "source": [
    "combinacoes <- choose(n, k)\n",
    "combinacoes"
   ]
  },
  {
   "cell_type": "markdown",
   "metadata": {
    "id": "DDQyr-sqIpQd"
   },
   "source": [
    "Legal! E se quisermos calcular, por exemplo, a **probabilidade** de 1 pacote específico ser escolhido. Como podemos fazer isso?"
   ]
  },
  {
   "cell_type": "code",
   "execution_count": null,
   "metadata": {
    "colab": {
     "base_uri": "https://localhost:8080/",
     "height": 34
    },
    "id": "cLRI6WmzIqqR",
    "outputId": "695d1c6b-dbc9-4fbb-9265-ca8fb968309b",
    "vscode": {
     "languageId": "r"
    }
   },
   "outputs": [
    {
     "data": {
      "text/html": [
       "0.00833333333333333"
      ],
      "text/latex": [
       "0.00833333333333333"
      ],
      "text/markdown": [
       "0.00833333333333333"
      ],
      "text/plain": [
       "[1] 0.008333333"
      ]
     },
     "metadata": {},
     "output_type": "display_data"
    }
   ],
   "source": [
    "probabilidade <- 1 / combinacoes\n",
    "probabilidade"
   ]
  },
  {
   "cell_type": "markdown",
   "metadata": {
    "id": "eFAmErYTIpNJ"
   },
   "source": [
    "Com isso, descobrimos que a equipe de marketing da Zoop tem **120 combinações únicas** de pacotes promocionais que podem ser feitos escolhendo 3 produtos de uma lista de 10.\n",
    "\n",
    "Mas não para por aí, vamos resolver na sequência o nosso primeiro problema envolvendo uma distribuição binomial, aprendendo o que é um experimento binomial, quando utilizá-lo e como calcular a probabilidade desejada."
   ]
  },
  {
   "cell_type": "markdown",
   "metadata": {
    "id": "I-7k0_7cIpJR"
   },
   "source": [
    "## **1.2 Calculando a probabilidade**\n",
    "\n",
    "---\n",
    "\n"
   ]
  },
  {
   "cell_type": "markdown",
   "metadata": {
    "id": "Kq_zIWDFNgPm"
   },
   "source": [
    "### <font color=\"#E23155\" face=\"Verdana\">Case 2: Probabilidade de sucesso nas vendas dos pacotes promocionais</font>"
   ]
  },
  {
   "cell_type": "markdown",
   "metadata": {
    "id": "GVt_l9IaNgPm"
   },
   "source": [
    "Após definirmos as **120 combinações** possíveis de pacotes de produtos para a campanha de Black Friday e Natal, o time de marketing quer entender a probabilidade de sucesso desses pacotes promocionais. Analisando os dados históricos de campanhas anteriores, temos que, em média, **40% dos pacotes** oferecidos aos clientes resultam em vendas acima da média quando vendidos separadamente.\n",
    "\n",
    "Como a equipe de marketing da Zoop pode calcular a **probabilidade de vender exatamente 50 pacotes** dessa seleção acima da média quando vendidos separadamente? E de vender **pelo menos 50 pacotes**?"
   ]
  },
  {
   "cell_type": "markdown",
   "metadata": {
    "id": "mYP8MgpWNotv"
   },
   "source": [
    "### **Distribuição binomial**\n",
    "\n",
    "Um evento **binomial** é caracterizado pela possibilidade de ocorrência de apenas duas categorias. Estas categorias somadas representam todo o espaço amostral, sendo também mutuamente excludentes, ou seja, a ocorrência de uma implica na não ocorrência da outra.\n",
    "\n",
    "Em análises estatísticas o uso mais comum da distribuição binomial é na solução de problemas que envolvem situações de **sucesso** e **fracasso**.\n",
    "\n",
    "$$P(k)=\\binom{n}{k} p^k q^{n-k}$$\n",
    "\n",
    "Onde:\n",
    "\n",
    "$p$ = probabilidade de sucesso\n",
    "\n",
    "$q = (1 - p)$ = probabilidade de fracasso\n",
    "\n",
    "$n$ = número de eventos estudados\n",
    "\n",
    "$k$ = número de eventos desejados que tenham sucesso\n",
    "\n",
    "&nbsp;\n",
    "\n",
    "#### **Experimento Binomial:**\n",
    "\n",
    "1.  Realização de $n$ ensaios idênticos.\n",
    "\n",
    "2.  Os ensaios são independentes.\n",
    "\n",
    "3.  Somente dois resultados são possíveis, exemplo: Verdadeiro ou falso; Cara ou coroa; Sucesso ou fracasso.\n",
    "\n",
    "4.  A probabilidade de sucesso é representada por $p$ e a de fracasso por $1-p=q$. Estas probabilidades não se modificam de ensaio para ensaio."
   ]
  },
  {
   "cell_type": "markdown",
   "metadata": {
    "id": "ISlAJAESo-kw"
   },
   "source": [
    "### <font color=\"#E23155\" face=\"Verdana\">Solução:</font>"
   ]
  },
  {
   "cell_type": "markdown",
   "metadata": {
    "id": "SuREJqccjQfB"
   },
   "source": [
    "> **Documentações:**\n",
    ">\n",
    "> - [**Binomial**](https://www.rdocumentation.org/packages/stats/versions/3.6.2/topics/Binomial)"
   ]
  },
  {
   "cell_type": "markdown",
   "metadata": {
    "id": "YF6S-x7kjQfB"
   },
   "source": [
    "Voltando ao nosso problema, vamos verificar se o mesmo é um experimento binomial:"
   ]
  },
  {
   "cell_type": "markdown",
   "metadata": {
    "id": "ZqvcAXvwl6ZE"
   },
   "source": [
    "#### **Qual o número de ensaios ($n$)?**"
   ]
  },
  {
   "cell_type": "code",
   "execution_count": null,
   "metadata": {
    "colab": {
     "base_uri": "https://localhost:8080/",
     "height": 34
    },
    "id": "RRAIIW7gmHJU",
    "outputId": "b123dd5e-9347-4db6-bc8f-7da3fe232c0e",
    "vscode": {
     "languageId": "r"
    }
   },
   "outputs": [
    {
     "data": {
      "text/html": [
       "120"
      ],
      "text/latex": [
       "120"
      ],
      "text/markdown": [
       "120"
      ],
      "text/plain": [
       "[1] 120"
      ]
     },
     "metadata": {},
     "output_type": "display_data"
    }
   ],
   "source": [
    "n <- 120\n",
    "n"
   ]
  },
  {
   "cell_type": "markdown",
   "metadata": {
    "id": "Noeqa615mLmk"
   },
   "source": [
    "#### **Os ensaios são independentes?**"
   ]
  },
  {
   "cell_type": "markdown",
   "metadata": {
    "id": "fPzHFCuomTR1"
   },
   "source": [
    "Sim. Um pacote escolhido não influencia em nada a escolha ou não de outro pacote."
   ]
  },
  {
   "cell_type": "markdown",
   "metadata": {
    "id": "O20eGfLOme2t"
   },
   "source": [
    "#### **Somente dois resultados são possíveis em cada ensaio?**"
   ]
  },
  {
   "cell_type": "markdown",
   "metadata": {
    "id": "erFl7Ht4mpJc"
   },
   "source": [
    "Sim. A venda de um pacote estar acima da média quando vendido separadamente tem duas possibilidades, VERDADEIRO ou FALSO."
   ]
  },
  {
   "cell_type": "markdown",
   "metadata": {
    "id": "YNkHsA97nQdL"
   },
   "source": [
    "#### **Qual a probabilidade de sucesso ($p$)?**"
   ]
  },
  {
   "cell_type": "code",
   "execution_count": null,
   "metadata": {
    "colab": {
     "base_uri": "https://localhost:8080/",
     "height": 34
    },
    "id": "EYDiOwt5nSCs",
    "outputId": "94ada051-62ad-4400-a6f5-b7d43af599b8",
    "vscode": {
     "languageId": "r"
    }
   },
   "outputs": [
    {
     "data": {
      "text/html": [
       "0.4"
      ],
      "text/latex": [
       "0.4"
      ],
      "text/markdown": [
       "0.4"
      ],
      "text/plain": [
       "[1] 0.4"
      ]
     },
     "metadata": {},
     "output_type": "display_data"
    }
   ],
   "source": [
    "p <- 0.40\n",
    "p"
   ]
  },
  {
   "cell_type": "markdown",
   "metadata": {
    "id": "kiODOz15nZ70"
   },
   "source": [
    "#### **Qual o total de eventos que se deseja obter sucesso ($k$)?**"
   ]
  },
  {
   "cell_type": "code",
   "execution_count": null,
   "metadata": {
    "colab": {
     "base_uri": "https://localhost:8080/",
     "height": 34
    },
    "id": "ntNX5R_pnsGb",
    "outputId": "0ce2fa08-7c92-45ac-b188-e2056bc4c6a7",
    "vscode": {
     "languageId": "r"
    }
   },
   "outputs": [
    {
     "data": {
      "text/html": [
       "50"
      ],
      "text/latex": [
       "50"
      ],
      "text/markdown": [
       "50"
      ],
      "text/plain": [
       "[1] 50"
      ]
     },
     "metadata": {},
     "output_type": "display_data"
    }
   ],
   "source": [
    "k <- 50\n",
    "k"
   ]
  },
  {
   "cell_type": "markdown",
   "metadata": {
    "id": "BJyRdQiUlh8H"
   },
   "source": [
    "Utilizando o R, podemos resolver esse problema por meio da função `dbinom()` calculando a probabilidade de vender exatamente 50 pacotes."
   ]
  },
  {
   "cell_type": "code",
   "execution_count": null,
   "metadata": {
    "colab": {
     "base_uri": "https://localhost:8080/",
     "height": 34
    },
    "id": "Bsq4Ev87Iqji",
    "outputId": "413c9e2c-d0f2-40d7-bcc0-94ed36d5c513",
    "vscode": {
     "languageId": "r"
    }
   },
   "outputs": [
    {
     "data": {
      "text/html": [
       "0.0687861547358353"
      ],
      "text/latex": [
       "0.0687861547358353"
      ],
      "text/markdown": [
       "0.0687861547358353"
      ],
      "text/plain": [
       "[1] 0.06878615"
      ]
     },
     "metadata": {},
     "output_type": "display_data"
    }
   ],
   "source": [
    "dbinom(k, n, p)"
   ]
  },
  {
   "cell_type": "markdown",
   "metadata": {
    "id": "7vuTOLw9pdLT"
   },
   "source": [
    "### Obter a posibilidade de vender pelo menos 50 pacotes acima da média"
   ]
  },
  {
   "cell_type": "markdown",
   "metadata": {
    "id": "wY7OEsGvk9Ed"
   },
   "source": [
    "$$P(pacotes \\geq 50) = P(50) + P(51) + P(52) + P(53) + ... + P(120)$$"
   ]
  },
  {
   "cell_type": "markdown",
   "metadata": {
    "id": "5xqHAiYXqS14"
   },
   "source": [
    "#### <font color=\"#E23155\" face=\"Verdana\">Solução 1:</font>"
   ]
  },
  {
   "cell_type": "code",
   "execution_count": null,
   "metadata": {
    "colab": {
     "base_uri": "https://localhost:8080/",
     "height": 34
    },
    "id": "U40oh9CZNunV",
    "outputId": "6a0a443c-4760-4d15-e8be-a69b7d2e4bf5",
    "vscode": {
     "languageId": "r"
    }
   },
   "outputs": [
    {
     "data": {
      "text/html": [
       "0.387795506641093"
      ],
      "text/latex": [
       "0.387795506641093"
      ],
      "text/markdown": [
       "0.387795506641093"
      ],
      "text/plain": [
       "[1] 0.3877955"
      ]
     },
     "metadata": {},
     "output_type": "display_data"
    }
   ],
   "source": [
    "pbinom(49, n, p, lower.tail = FALSE)"
   ]
  },
  {
   "cell_type": "markdown",
   "metadata": {
    "id": "7SXueIs4qSdg"
   },
   "source": [
    "#### <font color=\"#E23155\" face=\"Verdana\">Solução 2:</font>"
   ]
  },
  {
   "cell_type": "code",
   "execution_count": null,
   "metadata": {
    "colab": {
     "base_uri": "https://localhost:8080/",
     "height": 34
    },
    "id": "1zZEtu_qqrYw",
    "outputId": "ee09a3d0-3574-45cb-82ac-df02fb4189d1",
    "vscode": {
     "languageId": "r"
    }
   },
   "outputs": [
    {
     "data": {
      "text/html": [
       "0.387795506641093"
      ],
      "text/latex": [
       "0.387795506641093"
      ],
      "text/markdown": [
       "0.387795506641093"
      ],
      "text/plain": [
       "[1] 0.3877955"
      ]
     },
     "metadata": {},
     "output_type": "display_data"
    }
   ],
   "source": [
    "1 - pbinom(49, n, p)"
   ]
  },
  {
   "cell_type": "markdown",
   "metadata": {
    "id": "TpqyP_iOp4oX"
   },
   "source": [
    "## **1.3 Aplicando a média da distribuição binomial**\n",
    "\n",
    "---\n",
    "\n"
   ]
  },
  {
   "cell_type": "markdown",
   "metadata": {
    "id": "Ow8zeZ5op4oY"
   },
   "source": [
    "### <font color=\"#E23155\" face=\"Verdana\">Case 3: Projetando equipes no Atendimento ao Cliente</font>"
   ]
  },
  {
   "cell_type": "markdown",
   "metadata": {
    "id": "HN6H9me_p4oY"
   },
   "source": [
    "A Zoop possui um time de atendimento ao cliente para dar suporte às pessoas que compram na loja on-line e ele é divido em equipes. De acordo com dados anteriores, **60% do time é do sexo biológico feminino**. A empresa está organizando **30 novas equipes, com 15 integrantes cada**, para atender ao aumento da demanda durante a Black Friday.\n",
    "\n",
    "A equipe de RH deseja prever quantas dessas equipes terão **10 ou mais agentes do sexo feminino**."
   ]
  },
  {
   "cell_type": "markdown",
   "metadata": {
    "id": "BSS2M5VQp4oY"
   },
   "source": [
    "### **Média da distribuição binomial**\n",
    "\n",
    "O valor esperado ou a média da distribuição binomial é igual ao número de experimentos realizados multiplicado pela chance de ocorrência do evento.\n",
    "\n",
    "$$\\mu = n \\times p$$"
   ]
  },
  {
   "cell_type": "markdown",
   "metadata": {
    "id": "pEGy7hWUBa7e"
   },
   "source": [
    "#### <font color=\"#E23155\" face=\"Verdana\">Solução:</font>"
   ]
  },
  {
   "cell_type": "code",
   "execution_count": null,
   "metadata": {
    "colab": {
     "base_uri": "https://localhost:8080/",
     "height": 34
    },
    "id": "X7HTRWlqBa7e",
    "outputId": "09a9cc18-653b-4aae-fe74-ac93406ad319",
    "vscode": {
     "languageId": "r"
    }
   },
   "outputs": [
    {
     "data": {
      "text/html": [
       "0.6"
      ],
      "text/latex": [
       "0.6"
      ],
      "text/markdown": [
       "0.6"
      ],
      "text/plain": [
       "[1] 0.6"
      ]
     },
     "metadata": {},
     "output_type": "display_data"
    }
   ],
   "source": [
    "p <- 0.6\n",
    "p"
   ]
  },
  {
   "cell_type": "code",
   "execution_count": null,
   "metadata": {
    "colab": {
     "base_uri": "https://localhost:8080/",
     "height": 34
    },
    "id": "Wp1eshWRBhc2",
    "outputId": "9f81424b-47bf-4c56-a509-e86a7d8dc086",
    "vscode": {
     "languageId": "r"
    }
   },
   "outputs": [
    {
     "data": {
      "text/html": [
       "15"
      ],
      "text/latex": [
       "15"
      ],
      "text/markdown": [
       "15"
      ],
      "text/plain": [
       "[1] 15"
      ]
     },
     "metadata": {},
     "output_type": "display_data"
    }
   ],
   "source": [
    "n <- 15\n",
    "n"
   ]
  },
  {
   "cell_type": "code",
   "execution_count": null,
   "metadata": {
    "colab": {
     "base_uri": "https://localhost:8080/",
     "height": 34
    },
    "id": "HEoYzc-VBhU_",
    "outputId": "56846df5-c249-49fc-ade5-5f1b5a94044b",
    "vscode": {
     "languageId": "r"
    }
   },
   "outputs": [
    {
     "data": {
      "text/html": [
       "10"
      ],
      "text/latex": [
       "10"
      ],
      "text/markdown": [
       "10"
      ],
      "text/plain": [
       "[1] 10"
      ]
     },
     "metadata": {},
     "output_type": "display_data"
    }
   ],
   "source": [
    "k <- 10\n",
    "k"
   ]
  },
  {
   "cell_type": "code",
   "execution_count": null,
   "metadata": {
    "colab": {
     "base_uri": "https://localhost:8080/",
     "height": 34
    },
    "id": "fLSm-IJzBhRI",
    "outputId": "bd6d2e6c-d8bf-41da-d1db-d14b1fd3099b",
    "vscode": {
     "languageId": "r"
    }
   },
   "outputs": [
    {
     "data": {
      "text/html": [
       "0.403215550414848"
      ],
      "text/latex": [
       "0.403215550414848"
      ],
      "text/markdown": [
       "0.403215550414848"
      ],
      "text/plain": [
       "[1] 0.4032156"
      ]
     },
     "metadata": {},
     "output_type": "display_data"
    }
   ],
   "source": [
    "probabilidade <- pbinom(k-1, n, p, lower.tail = F)\n",
    "probabilidade"
   ]
  },
  {
   "cell_type": "code",
   "execution_count": null,
   "metadata": {
    "colab": {
     "base_uri": "https://localhost:8080/",
     "height": 34
    },
    "id": "uVtrDomSBhLe",
    "outputId": "bf6d7b4c-df0d-4107-d7f3-1a31e5af091a",
    "vscode": {
     "languageId": "r"
    }
   },
   "outputs": [
    {
     "data": {
      "text/html": [
       "12.0964665124454"
      ],
      "text/latex": [
       "12.0964665124454"
      ],
      "text/markdown": [
       "12.0964665124454"
      ],
      "text/plain": [
       "[1] 12.09647"
      ]
     },
     "metadata": {},
     "output_type": "display_data"
    }
   ],
   "source": [
    "equipes <- 30 * probabilidade\n",
    "equipes"
   ]
  },
  {
   "cell_type": "markdown",
   "metadata": {
    "id": "sZ-cMVp7N9nd"
   },
   "source": [
    "# **2. Distribuição de Poisson**\n",
    "\n",
    "---\n",
    "\n"
   ]
  },
  {
   "cell_type": "markdown",
   "metadata": {
    "id": "OavU9FoUIFW8"
   },
   "source": [
    "## **2.1 Aplicando a distribuição de Poisson**\n",
    "\n",
    "---\n",
    "\n"
   ]
  },
  {
   "cell_type": "markdown",
   "metadata": {
    "id": "WI5nvWBvIFW8"
   },
   "source": [
    "### <font color=\"#E23155\" face=\"Verdana\">Case 4: Tempo de resposta em redes sociais</font>"
   ]
  },
  {
   "cell_type": "markdown",
   "metadata": {
    "id": "9MdrnitsIFW8"
   },
   "source": [
    "Uma empresa posssui uma equipe de atendimento que presta suporte aos clientes por meio das interações pelas redes sociais, como X e Instagram. A **média histórica é de 200 interações (perguntas ou reclamações) por hora** durante campanhas de marketing intensas.\n",
    "\n",
    "A equipe de atendimento ao cliente quer saber qual a probabilidade de receber **exatamente 220 interações por hora** durante uma dessas campanhas, para planejar melhor o tempo de resposta, dada uma divisão mais igualitária do pessoal para o suporte aos clientes. E, considerando um número justo de **220 interações ou menos por hora**, qual seria a probabilidade também para esse caso?"
   ]
  },
  {
   "cell_type": "markdown",
   "metadata": {
    "id": "zSnJIIrNIFW8"
   },
   "source": [
    "### **Distribuição de Poisson**\n",
    "\n",
    "Descreve a probabilidade de um determinado número de ocorrências em um intervalo de tempo ou espaço específico. Os eventos são caracterizados pela possibilidade de contagem dos sucessos, mas a não possibilidade de contagem dos fracassos.\n",
    "\n",
    "**Exemplo:** Probabilidade de um nº de clientes entrar em uma loja em determinada hora, nº de carros que chegam em um drive-thru de uma lanchonete na hora do almoço, nº de acidentes registrados em um trecho de estrada etc.\n",
    "\n",
    "&nbsp;\n",
    "\n",
    "$$P(k) = \\frac{e^{-\\lambda}(\\lambda)^k}{k!}$$\n",
    "\n",
    "Onde:\n",
    "\n",
    "$e$ = número de Euler, é uma constante cujo valor aproximado é 2,718281828459045\n",
    "\n",
    "$\\lambda$ = representa o número médio de ocorrências em um determinado intervalo de tempo ou espaço\n",
    "\n",
    "$k$ = número de sucessos no intervalo desejado\n",
    "\n",
    "&nbsp;\n",
    "\n",
    "#### **Experimento Poisson:**\n",
    "\n",
    "1. A probabilidade de uma ocorrência é a mesma em todo o intervalo observado.\n",
    "\n",
    "2. O número de ocorrências em determinado intervalo é independente do número de ocorrências em outros intervalos.\n",
    "\n",
    "3. A probabilidade de uma ocorrência é a mesma em intervalos de igual comprimento."
   ]
  },
  {
   "cell_type": "markdown",
   "metadata": {
    "id": "t3QVILvTIFW8"
   },
   "source": [
    "### <font color=\"#E23155\" face=\"Verdana\">Solução (exatamente 220 interações por hora):</font>"
   ]
  },
  {
   "cell_type": "markdown",
   "metadata": {
    "id": "jAHsyI8PIFW8"
   },
   "source": [
    "> **Documentações:**\n",
    ">\n",
    "> - [**Poisson**](https://www.rdocumentation.org/packages/stats/versions/3.6.2/topics/Poisson)"
   ]
  },
  {
   "cell_type": "markdown",
   "metadata": {
    "id": "sPLBqjXQIFW9"
   },
   "source": [
    "Voltando ao nosso problema, vamos preencher os dados para realizar os cálculos:"
   ]
  },
  {
   "cell_type": "markdown",
   "metadata": {
    "id": "m0dXWRF0IFW9"
   },
   "source": [
    "#### **Qual o número médio de ocorrências por hora ($\\lambda$)?**"
   ]
  },
  {
   "cell_type": "code",
   "execution_count": null,
   "metadata": {
    "colab": {
     "base_uri": "https://localhost:8080/",
     "height": 34
    },
    "id": "doO0131VIFW9",
    "outputId": "24ac5e3e-4ad5-47d4-d56d-88b18e20e371",
    "vscode": {
     "languageId": "r"
    }
   },
   "outputs": [
    {
     "data": {
      "text/html": [
       "200"
      ],
      "text/latex": [
       "200"
      ],
      "text/markdown": [
       "200"
      ],
      "text/plain": [
       "[1] 200"
      ]
     },
     "metadata": {},
     "output_type": "display_data"
    }
   ],
   "source": [
    "lambda <- 200\n",
    "lambda"
   ]
  },
  {
   "cell_type": "markdown",
   "metadata": {
    "id": "KAJoe4_4Pt4m"
   },
   "source": [
    "#### **Qual o número de ocorrências que queremos obter no período ($k$)?**"
   ]
  },
  {
   "cell_type": "code",
   "execution_count": null,
   "metadata": {
    "colab": {
     "base_uri": "https://localhost:8080/",
     "height": 34
    },
    "id": "02WbA_28Px1t",
    "outputId": "e48d6d86-20eb-4004-de82-8a8751075471",
    "vscode": {
     "languageId": "r"
    }
   },
   "outputs": [
    {
     "data": {
      "text/html": [
       "220"
      ],
      "text/latex": [
       "220"
      ],
      "text/markdown": [
       "220"
      ],
      "text/plain": [
       "[1] 220"
      ]
     },
     "metadata": {},
     "output_type": "display_data"
    }
   ],
   "source": [
    "k <- 220\n",
    "k"
   ]
  },
  {
   "cell_type": "markdown",
   "metadata": {
    "id": "Y62JMammP0DV"
   },
   "source": [
    "Para calcular a probabilidade do time de atendimento ter exatamente 220 interações por hora nas redes sociais utilizaremos a função `dpois()`"
   ]
  },
  {
   "cell_type": "code",
   "execution_count": null,
   "metadata": {
    "colab": {
     "base_uri": "https://localhost:8080/",
     "height": 34
    },
    "id": "BdvueDxNPy0t",
    "outputId": "6d15d4d9-e18a-4224-a702-a1840c98cf1c",
    "vscode": {
     "languageId": "r"
    }
   },
   "outputs": [
    {
     "data": {
      "text/html": [
       "0.0102101735291575"
      ],
      "text/latex": [
       "0.0102101735291575"
      ],
      "text/markdown": [
       "0.0102101735291575"
      ],
      "text/plain": [
       "[1] 0.01021017"
      ]
     },
     "metadata": {},
     "output_type": "display_data"
    }
   ],
   "source": [
    "dpois(k, lambda=lambda)"
   ]
  },
  {
   "cell_type": "markdown",
   "metadata": {
    "id": "bZIUwuvjO8Cm"
   },
   "source": [
    "### <font color=\"#E23155\" face=\"Verdana\">Solução (220 ou menos interações por hora):</font>"
   ]
  },
  {
   "cell_type": "code",
   "execution_count": null,
   "metadata": {
    "colab": {
     "base_uri": "https://localhost:8080/",
     "height": 34
    },
    "id": "JX3JU1PYONAO",
    "outputId": "c4fe48b4-2e06-44f9-e9c5-32e9dcbd8d5b",
    "vscode": {
     "languageId": "r"
    }
   },
   "outputs": [
    {
     "data": {
      "text/html": [
       "0.92469855756635"
      ],
      "text/latex": [
       "0.92469855756635"
      ],
      "text/markdown": [
       "0.92469855756635"
      ],
      "text/plain": [
       "[1] 0.9246986"
      ]
     },
     "metadata": {},
     "output_type": "display_data"
    }
   ],
   "source": [
    "ppois(k, lambda=lambda)"
   ]
  },
  {
   "cell_type": "markdown",
   "metadata": {
    "id": "_LaT-17ESwjP"
   },
   "source": [
    "## **2.2 Calculando resultados esperados**\n",
    "\n",
    "---\n",
    "\n"
   ]
  },
  {
   "cell_type": "markdown",
   "metadata": {
    "id": "-gy0tRkySwjP"
   },
   "source": [
    "### <font color=\"#E23155\" face=\"Verdana\">Case 5: Prevendo picos de vendas</font>"
   ]
  },
  {
   "cell_type": "markdown",
   "metadata": {
    "id": "vicAbIYwSwjP"
   },
   "source": [
    "Nos 4º trimestres dos últimos 5 anos, uma loja de confeitaria observa um aumento significativo nas vendas de bolos decorativos, impulsionado por eventos como Dia das Crianças, Natal e Ano Novo. Historicamente, a **média de vendas semanais durante esse período é de 150 bolos decorativos**. Entretanto, o time de vendas quer prever os picos de demanda e garantir que o estoque esteja preparado para semanas de vendas mais altas.\n",
    "\n",
    "Logo, qual seria a probabilidade, por exemplo, de vender **160 ou mais bolos decorativos em uma semana específica** durante o último trimestre deste ano, dado a média histórica."
   ]
  },
  {
   "cell_type": "markdown",
   "metadata": {
    "id": "c6RweTf6SwjP"
   },
   "source": [
    "### <font color=\"#E23155\" face=\"Verdana\">Solução 1:</font>"
   ]
  },
  {
   "cell_type": "markdown",
   "metadata": {
    "id": "dojhGKNkSwjR"
   },
   "source": [
    "Uma das formas de calcular a probabilidade de vender 160 ou mais produtos em uma semana específica pode ser por meio da função `dpois()` junto a `ppois()`"
   ]
  },
  {
   "cell_type": "code",
   "execution_count": null,
   "metadata": {
    "colab": {
     "base_uri": "https://localhost:8080/",
     "height": 34
    },
    "id": "PMANj2F5SwjR",
    "outputId": "dae1c635-1b85-4b02-b533-4db76d789d70",
    "vscode": {
     "languageId": "r"
    }
   },
   "outputs": [
    {
     "data": {
      "text/html": [
       "0.0227495558810425"
      ],
      "text/latex": [
       "0.0227495558810425"
      ],
      "text/markdown": [
       "0.0227495558810425"
      ],
      "text/plain": [
       "[1] 0.02274956"
      ]
     },
     "metadata": {},
     "output_type": "display_data"
    }
   ],
   "source": [
    "prob_exata_160 <- dpois(160, lambda=150)\n",
    "prob_exata_160"
   ]
  },
  {
   "cell_type": "code",
   "execution_count": null,
   "metadata": {
    "colab": {
     "base_uri": "https://localhost:8080/",
     "height": 34
    },
    "id": "6CKlFYmwUfO6",
    "outputId": "e478f175-9ba1-476b-9aa9-e89e43ba4683",
    "vscode": {
     "languageId": "r"
    }
   },
   "outputs": [
    {
     "data": {
      "text/html": [
       "0.194601314492853"
      ],
      "text/latex": [
       "0.194601314492853"
      ],
      "text/markdown": [
       "0.194601314492853"
      ],
      "text/plain": [
       "[1] 0.1946013"
      ]
     },
     "metadata": {},
     "output_type": "display_data"
    }
   ],
   "source": [
    "prob_acima_160 <- ppois(160, lambda=150, lower.tail = F)\n",
    "prob_acima_160"
   ]
  },
  {
   "cell_type": "code",
   "execution_count": null,
   "metadata": {
    "colab": {
     "base_uri": "https://localhost:8080/",
     "height": 34
    },
    "id": "w0TtLBO9UihD",
    "outputId": "a93992ab-6477-447a-e947-bd35c94916e1",
    "vscode": {
     "languageId": "r"
    }
   },
   "outputs": [
    {
     "data": {
      "text/html": [
       "0.217350870373896"
      ],
      "text/latex": [
       "0.217350870373896"
      ],
      "text/markdown": [
       "0.217350870373896"
      ],
      "text/plain": [
       "[1] 0.2173509"
      ]
     },
     "metadata": {},
     "output_type": "display_data"
    }
   ],
   "source": [
    "probabilidade <- prob_exata_160 + prob_acima_160\n",
    "probabilidade"
   ]
  },
  {
   "cell_type": "markdown",
   "metadata": {
    "id": "_IBFztIaSwjR"
   },
   "source": [
    "### <font color=\"#E23155\" face=\"Verdana\">Solução 2:</font>"
   ]
  },
  {
   "cell_type": "code",
   "execution_count": null,
   "metadata": {
    "colab": {
     "base_uri": "https://localhost:8080/",
     "height": 34
    },
    "id": "60e8iQ1GSwjR",
    "outputId": "bc2a0617-eeed-4df7-a0d6-0f5a8ea6b0fd",
    "vscode": {
     "languageId": "r"
    }
   },
   "outputs": [
    {
     "data": {
      "text/html": [
       "0.217350870373896"
      ],
      "text/latex": [
       "0.217350870373896"
      ],
      "text/markdown": [
       "0.217350870373896"
      ],
      "text/plain": [
       "[1] 0.2173509"
      ]
     },
     "metadata": {},
     "output_type": "display_data"
    }
   ],
   "source": [
    "prob_160_ou_mais <- ppois(159, lambda=150, lower.tail=FALSE)\n",
    "prob_160_ou_mais"
   ]
  },
  {
   "cell_type": "markdown",
   "metadata": {
    "id": "UzDacOjqYFAl"
   },
   "source": [
    "## **2.3 Investigando o quantil da distribuição de Poisson**\n",
    "\n",
    "---\n",
    "\n"
   ]
  },
  {
   "cell_type": "markdown",
   "metadata": {
    "id": "kRH_ZeJeYFAl"
   },
   "source": [
    "### <font color=\"#E23155\" face=\"Verdana\">Case 6: Garantia da Qualidade das Smart TVs</font>"
   ]
  },
  {
   "cell_type": "markdown",
   "metadata": {
    "id": "0qe3qDqoYFAl"
   },
   "source": [
    "Um dos produtos mais vendidos de uma loja de eletrônicos são as Smart TVs. Nos últimos meses, houve relatos de clientes sobre defeitos em algumas unidades de Smart TVs, o que acendeu o alerta para o time de garantia de qualidade.\n",
    "\n",
    "Sabendo que defeitos são inevitáveis em qualquer processo de produção em massa, a equipe de suporte e garantia precisa garantir que a proporção de TVs com defeito seja mantida dentro de um limite aceitável.\n",
    "\n",
    "Para isso, vamos calcular qual o **número máximo de TVs com defeito** que pode ocorrer, de forma que em **95% dos casos**, a quantidade de TVs defeituosas seja menor que esse limite, sabendo que, em média, a taxa de defeitos observada é de **2 TVs defeituosas por mês**."
   ]
  },
  {
   "cell_type": "markdown",
   "metadata": {
    "id": "Jz-U4fg0YFAl"
   },
   "source": [
    "### <font color=\"#E23155\" face=\"Verdana\">Solução:</font>"
   ]
  },
  {
   "cell_type": "markdown",
   "metadata": {
    "id": "Zee_ejLvYFAl"
   },
   "source": [
    "Aqui, nós vamos utilizar a operação inversa do Poisson, já possuímos a probabilidade e queremos o valor máximo de casos defeituosos. No R, podemos calcular isso por meio da função `qpois()`"
   ]
  },
  {
   "cell_type": "code",
   "execution_count": null,
   "metadata": {
    "colab": {
     "base_uri": "https://localhost:8080/",
     "height": 34
    },
    "id": "-EfdjwiCYFAl",
    "outputId": "9a8073c7-ea39-45c9-bc5a-fe999718fab3",
    "vscode": {
     "languageId": "r"
    }
   },
   "outputs": [
    {
     "data": {
      "text/html": [
       "5"
      ],
      "text/latex": [
       "5"
      ],
      "text/markdown": [
       "5"
      ],
      "text/plain": [
       "[1] 5"
      ]
     },
     "metadata": {},
     "output_type": "display_data"
    }
   ],
   "source": [
    "qpois(p= 0.95, lambda = 2)"
   ]
  },
  {
   "cell_type": "markdown",
   "metadata": {
    "id": "44ge2lH-bk47"
   },
   "source": [
    "Interpretando a nossa resposta, no percentil 0.95 (95%) da nossa distribuição temos o valor 5. Ou seja, em 95% dos casos, a produção tem menos do que 5 Smart TVs com defeito."
   ]
  },
  {
   "cell_type": "markdown",
   "metadata": {
    "id": "BtrEyuh8N91P"
   },
   "source": [
    "# **3. Distribuição Normal**\n",
    "\n",
    "---\n",
    "\n"
   ]
  },
  {
   "cell_type": "markdown",
   "metadata": {
    "id": "znHyp5NKoAdt"
   },
   "source": [
    "Agora, vamos partir para uma das distribuições de probabilidade mais famosas e com inúmeras aplicações: **Distribuição Normal**. Mas, antes disso, vamos entender os novos cases que devemos responder da Zoop e como este tipo de distribuição poderá nos ajudar"
   ]
  },
  {
   "cell_type": "markdown",
   "metadata": {
    "id": "kdkt1BPYl29O"
   },
   "source": [
    "## **3.1 Calculando a probabilidade da distribuição - Caso I**\n",
    "\n",
    "---\n",
    "\n"
   ]
  },
  {
   "cell_type": "markdown",
   "metadata": {
    "id": "amnGvIsMl29O"
   },
   "source": [
    "### <font color=\"#E23155\" face=\"Verdana\">Case 7: Analisando o tempo de entrega dos produtos</font>"
   ]
  },
  {
   "cell_type": "markdown",
   "metadata": {
    "id": "dvhcjvHVl29O"
   },
   "source": [
    "Agora, vamos auxiliar o time de logística de uma grande empresa que está monitorando os tempos de entrega dos produtos. Em um estudo sobre o prazo de entrega dos produtos, verificou-se que os os dados de entrega seguem uma **distribuição aproximadamente normal, com média de 7 dias e desvio padrão de 2 dias**.\n",
    "\n",
    "Com base nestas informações, vamos obter o seguinte conjunto de probabilidades como resposta às demandas do pessoal:\n",
    "\n",
    "> A) probabilidade de uma entrega demorar menos de 9 dias.\n",
    ">\n",
    "> B) probabilidade de uma entrega demorar entre 5 e 9 dias.\n",
    ">\n",
    "> C) probabilidade de uma entrega demorar mais de 10 dias."
   ]
  },
  {
   "cell_type": "markdown",
   "metadata": {
    "id": "qcWigRz7l29P"
   },
   "source": [
    "### **Distribuição Normal**\n",
    "\n",
    "A distribuição normal é uma das mais utilizadas em estatística. É uma distribuição contínua, onde a distribuição de frequências de uma variável quantitativa apresenta a forma de sino e é simétrica em relação a sua média.\n",
    "\n",
    "![Distribuição Normal](https://github.com/alura-cursos/estatistica-r-probabilidade-amostragem/blob/main/imagens/outros/distribuicao-normal.png?raw=true)\n",
    "\n",
    "#### **Características importantes:**\n",
    "\n",
    "1. É simétrica em torno da média;\n",
    "\n",
    "2. A área sob a curva corresponde à proporção 1 ou 100%;\n",
    "\n",
    "3. As medidas de tendência central (média, mediana e moda) apresentam o mesmo valor;\n",
    "\n",
    "4. Os extremos da curva tendem ao infinito em ambas as direções e, teoricamente, jamais tocam o eixo $x$;\n",
    "\n",
    "5. O desvio padrão define o achatamento e largura da distribuição. Curvas mais largas e mais achatadas apresentam valores maiores de desvio padrão;\n",
    "\n",
    "6. A distribuição é definida por sua média e desvio padrão;\n",
    "\n",
    "7. A probabilidade sempre será igual à área sob a curva, delimitada pelos limites inferior e superior.\n",
    "\n",
    "&nbsp;\n",
    "\n",
    "$$f(x) = \\frac{1}{\\sqrt{2\\pi\\sigma}}e^{-\\frac{1}{2}\\left(\\frac{x-\\mu}{\\sigma}\\right)^2}$$\n",
    "\n",
    "Onde:\n",
    "\n",
    "$x$ = variável normal\n",
    "\n",
    "$\\sigma$ = desvio padrão\n",
    "\n",
    "$\\mu$ = média\n",
    "\n"
   ]
  },
  {
   "cell_type": "markdown",
   "metadata": {
    "id": "lS2sRd9ftgsg"
   },
   "source": [
    "### **Como calcular de maneira mais simples?**"
   ]
  },
  {
   "cell_type": "markdown",
   "metadata": {
    "id": "d1N-z9HXtV4B"
   },
   "source": [
    "Para facilitar a obtenção dos valores das áreas sob a curva normal e eliminar a necessidade de solucionar integrais definidas, foram inventadas as tabelas padronizadas. Vou deixar uma atividade para que você possa aprender como construí-la ou consultá-la.\n",
    "\n",
    "Para o escopo do nosso curso, vamos aprender como transformar nossa variável em uma variável padronizada $Z$.\n",
    "\n",
    "Esta variável $Z$ representa o afastamento em desvios padrões de um valor da variável original em relação à média."
   ]
  },
  {
   "cell_type": "markdown",
   "metadata": {
    "id": "k5-sxoQ6tHTl"
   },
   "source": [
    "$$Z = \\frac{x-\\mu}{\\sigma}$$\n",
    "\n",
    "Onde:\n",
    "\n",
    "$x$ = variável normal com média $\\mu$ e desvio padrão $\\sigma$\n",
    "\n",
    "$\\sigma$ = desvio padrão\n",
    "\n",
    "$\\mu$ = média\n",
    "\n",
    "&nbsp;\n",
    "\n",
    "Com este valor, basta rodarmos as funções do R para distribuição normal para calcularmos as probabilidades em diferentes casos, como veremos ao longo deste tópico.\n",
    "\n",
    "Aqui abaixo temos um caso para valores entre $-\\infty$ e $Z$ desvios padrão acima da média. Lembrando que por se tratar de valores padronizados temos $\\mu = 0$.\n",
    "\n",
    "![Distribuição Normal](https://github.com/alura-cursos/estatistica-r-probabilidade-amostragem/blob/main/imagens/outros/distribuicao-normal-z.png?raw=true)"
   ]
  },
  {
   "cell_type": "markdown",
   "metadata": {
    "id": "IstxbpXwuhIL"
   },
   "source": [
    "Este exemplo é bem semelhante ao 1º caso do nosso problema da logística. Vamos resolvê-lo?"
   ]
  },
  {
   "cell_type": "markdown",
   "metadata": {
    "id": "2sLqjNXJtP-i"
   },
   "source": [
    "### <font color=\"#E23155\" face=\"Verdana\">Texto:</font>"
   ]
  },
  {
   "cell_type": "markdown",
   "metadata": {
    "id": "xuKm1RDNvE9L"
   },
   "source": [
    "Agora, vamos auxiliar o time de logística de uma grande empresa que está monitorando os tempos de entrega dos produtos. Em um estudo sobre o prazo de entrega dos produtos da Zoop, verificou-se que os os dados de entrega seguem uma **distribuição aproximadamente normal, com média de 7 dias e desvio padrão de 2 dias**.\n",
    "\n",
    "A) probabilidade de uma entrega demorar **menos de 9 dias**.\n"
   ]
  },
  {
   "cell_type": "markdown",
   "metadata": {
    "id": "sm5tHbT51BrW"
   },
   "source": [
    "![Distribuição Normal](https://github.com/alura-cursos/estatistica-r-probabilidade-amostragem/blob/main/imagens/outros/distribuicao-normal-caso-I.png?raw=true)"
   ]
  },
  {
   "cell_type": "markdown",
   "metadata": {
    "id": "FhS6uDi6l29P"
   },
   "source": [
    "### <font color=\"#E23155\" face=\"Verdana\">Solução - CASO A:</font>"
   ]
  },
  {
   "cell_type": "markdown",
   "metadata": {
    "id": "f7rNN5Pdl29P"
   },
   "source": [
    "> **Documentações:**\n",
    ">\n",
    "> - [**Normal**](https://www.rdocumentation.org/packages/stats/versions/3.6.2/topics/Normal)"
   ]
  },
  {
   "cell_type": "markdown",
   "metadata": {
    "id": "Qjv264kal29P"
   },
   "source": [
    "Vamos preencher os dados para realizar os cálculos:"
   ]
  },
  {
   "cell_type": "markdown",
   "metadata": {
    "id": "xdKC61VSl29P"
   },
   "source": [
    "#### **Obter a variável padronizada $Z$**"
   ]
  },
  {
   "cell_type": "code",
   "execution_count": null,
   "metadata": {
    "colab": {
     "base_uri": "https://localhost:8080/",
     "height": 34
    },
    "id": "eP4rplzal29P",
    "outputId": "cce78a9b-1b4c-4e88-b2db-465848b48b71",
    "vscode": {
     "languageId": "r"
    }
   },
   "outputs": [],
   "source": [
    "media <- \n",
    "media"
   ]
  },
  {
   "cell_type": "code",
   "execution_count": null,
   "metadata": {
    "colab": {
     "base_uri": "https://localhost:8080/",
     "height": 34
    },
    "id": "6h9m44Yll29Q",
    "outputId": "6941b635-9639-4fd0-817b-2b8151f60990",
    "vscode": {
     "languageId": "r"
    }
   },
   "outputs": [],
   "source": [
    "desvio_padrao <- \n",
    "desvio_padrao"
   ]
  },
  {
   "cell_type": "code",
   "execution_count": null,
   "metadata": {
    "colab": {
     "base_uri": "https://localhost:8080/",
     "height": 34
    },
    "id": "8PZQH6o2CZG3",
    "outputId": "1869627b-e22b-41bd-f32f-402eb1b72aea",
    "vscode": {
     "languageId": "r"
    }
   },
   "outputs": [],
   "source": [
    "Z <- \n",
    "Z"
   ]
  },
  {
   "cell_type": "markdown",
   "metadata": {
    "id": "AGZmZVWOl29Q"
   },
   "source": [
    "Para calcular a  probabilidade de uma entrega demorar **menos de 9 dias** utilizaremos a função `pnorm()`, passando o $Z$ para ela."
   ]
  },
  {
   "cell_type": "markdown",
   "metadata": {
    "id": "mPT3_ya7l29Q"
   },
   "source": [
    "#### **Calculando a probabilidade**"
   ]
  },
  {
   "cell_type": "code",
   "execution_count": null,
   "metadata": {
    "colab": {
     "base_uri": "https://localhost:8080/",
     "height": 34
    },
    "id": "LlR-mwQQl29Q",
    "outputId": "904a96f3-bb83-4c59-82ca-bb9d4e26ca08",
    "vscode": {
     "languageId": "r"
    }
   },
   "outputs": [],
   "source": []
  },
  {
   "cell_type": "markdown",
   "metadata": {
    "id": "ezFtIMHHF3-A"
   },
   "source": [
    "## **3.2 Calculando a probabilidade da distribuição - Caso II**\n",
    "\n",
    "---\n",
    "\n"
   ]
  },
  {
   "cell_type": "markdown",
   "metadata": {
    "id": "VJmjBlfQF3-A"
   },
   "source": [
    "### <font color=\"#E23155\" face=\"Verdana\">Texto:</font>"
   ]
  },
  {
   "cell_type": "markdown",
   "metadata": {
    "id": "sagsRd_dF3-A"
   },
   "source": [
    "Agora, vamos auxiliar o time de logística de uma grande empresa que está monitorando os tempos de entrega dos produtos. Em um estudo sobre o prazo de entrega dos produtos da Zoop, verificou-se que os os dados de entrega seguem uma **distribuição aproximadamente normal, com média de 7 dias e desvio padrão de 2 dias**.\n",
    "\n",
    "B) probabilidade de uma entrega demorar **entre 5 e 9 dias**.\n"
   ]
  },
  {
   "cell_type": "markdown",
   "metadata": {
    "id": "ZyJpqS8KF3-B"
   },
   "source": [
    "![Distribuição Normal](https://github.com/alura-cursos/estatistica-r-probabilidade-amostragem/blob/main/imagens/outros/distribuicao-normal-caso-II.png?raw=true)"
   ]
  },
  {
   "cell_type": "markdown",
   "metadata": {
    "id": "x7bWoebtF3-B"
   },
   "source": [
    "### <font color=\"#E23155\" face=\"Verdana\">Solução - CASO B:</font>"
   ]
  },
  {
   "cell_type": "markdown",
   "metadata": {
    "id": "7G2qndmbF3-B"
   },
   "source": [
    "#### **Obter a variável padronizada $Z$**"
   ]
  },
  {
   "cell_type": "code",
   "execution_count": null,
   "metadata": {
    "colab": {
     "base_uri": "https://localhost:8080/",
     "height": 34
    },
    "id": "6s4VkzgDF3-B",
    "outputId": "f5d2ab40-5a4d-4cd2-ba5e-366f3664c974",
    "vscode": {
     "languageId": "r"
    }
   },
   "outputs": [],
   "source": [
    "Z_inf <- \n",
    "Z_inf"
   ]
  },
  {
   "cell_type": "code",
   "execution_count": null,
   "metadata": {
    "colab": {
     "base_uri": "https://localhost:8080/",
     "height": 34
    },
    "id": "7gA-8EhiF3-C",
    "outputId": "19ce0db4-b93a-47f4-e11f-0a3f010b6423",
    "vscode": {
     "languageId": "r"
    }
   },
   "outputs": [],
   "source": [
    "Z_sup <- \n",
    "Z_sup"
   ]
  },
  {
   "cell_type": "markdown",
   "metadata": {
    "id": "9qwEStvOF3-C"
   },
   "source": [
    "Para calcular a  probabilidade de uma entrega demorar **entre 5 e 9 dias** podemos utilizar a simetria da curva e os dados que obtemos anteriormente ou a função `pnorm()`, subtraindo as probabilidades dos valores padronizados $Z$."
   ]
  },
  {
   "cell_type": "markdown",
   "metadata": {
    "id": "rLHzgqSQF3-C"
   },
   "source": [
    "#### **Solução 1: Usando os conceitos da curva**"
   ]
  },
  {
   "cell_type": "code",
   "execution_count": null,
   "metadata": {
    "colab": {
     "base_uri": "https://localhost:8080/",
     "height": 34
    },
    "id": "pvQUU4WfF3-C",
    "outputId": "ddb19e67-f0d7-4442-e79f-e3374bd196bc",
    "vscode": {
     "languageId": "r"
    }
   },
   "outputs": [],
   "source": [
    "probabilidade <- \n",
    "probabilidade"
   ]
  },
  {
   "cell_type": "markdown",
   "metadata": {
    "id": "H5TBql-CF3-C"
   },
   "source": [
    "#### **Solução 2: Usando a função `pnorm()`**"
   ]
  },
  {
   "cell_type": "code",
   "execution_count": null,
   "metadata": {
    "colab": {
     "base_uri": "https://localhost:8080/",
     "height": 34
    },
    "id": "faGw5lsrF3-C",
    "outputId": "3db97b00-4084-498f-9f99-ac5651611e20",
    "vscode": {
     "languageId": "r"
    }
   },
   "outputs": [],
   "source": [
    "probabilidade <- \n",
    "probabilidade"
   ]
  },
  {
   "cell_type": "markdown",
   "metadata": {
    "id": "GvFEUyCGKWsM"
   },
   "source": [
    "## **3.3 Calculando a probabilidade da distribuição - Caso III**\n",
    "\n",
    "---\n",
    "\n"
   ]
  },
  {
   "cell_type": "markdown",
   "metadata": {
    "id": "FzDIdthkKWsM"
   },
   "source": [
    "### <font color=\"#E23155\" face=\"Verdana\">Texto:</font>"
   ]
  },
  {
   "cell_type": "markdown",
   "metadata": {
    "id": "R3WiGTX6KWsN"
   },
   "source": [
    "Agora, vamos auxiliar o time de logística de uma grande empresa que está monitorando os tempos de entrega dos produtos. Em um estudo sobre o prazo de entrega dos produtos da Zoop, verificou-se que os os dados de entrega seguem uma **distribuição aproximadamente normal, com média de 7 dias e desvio padrão de 2 dias**.\n",
    "\n",
    "C) probabilidade de uma entrega demorar **mais de 10 dias**.\n"
   ]
  },
  {
   "cell_type": "markdown",
   "metadata": {
    "id": "N5hNAIS6KWsN"
   },
   "source": [
    "![Distribuição Normal](https://github.com/alura-cursos/estatistica-r-probabilidade-amostragem/blob/main/imagens/outros/distribuicao-normal-caso-III.png?raw=true)"
   ]
  },
  {
   "cell_type": "markdown",
   "metadata": {
    "id": "_fXODD5uKWsN"
   },
   "source": [
    "### <font color=\"#E23155\" face=\"Verdana\">Solução - CASO C:</font>"
   ]
  },
  {
   "cell_type": "markdown",
   "metadata": {
    "id": "PP39Gw3_KWsN"
   },
   "source": [
    "#### **Obter a variável padronizada $Z$**"
   ]
  },
  {
   "cell_type": "code",
   "execution_count": null,
   "metadata": {
    "colab": {
     "base_uri": "https://localhost:8080/",
     "height": 34
    },
    "id": "3xsWbNNkKWsN",
    "outputId": "8d25ac91-0b6d-40e3-f48e-463ae7cfdf49",
    "vscode": {
     "languageId": "r"
    }
   },
   "outputs": [],
   "source": [
    "Z <- \n",
    "Z"
   ]
  },
  {
   "cell_type": "markdown",
   "metadata": {
    "id": "UAaKFEBrKWsN"
   },
   "source": [
    "Para calcular a  probabilidade de uma entrega demorar **mais de 10 dias** utilizaremos a função `pnorm()` e pegar a parte superior da curva."
   ]
  },
  {
   "cell_type": "markdown",
   "metadata": {
    "id": "IQai7uw5KWsO"
   },
   "source": [
    "#### **Calculando a probabilidade**"
   ]
  },
  {
   "cell_type": "code",
   "execution_count": null,
   "metadata": {
    "colab": {
     "base_uri": "https://localhost:8080/",
     "height": 34
    },
    "id": "KpYyv40wKWsO",
    "outputId": "ef5a1883-5503-433a-bcb5-d2fb75f4ceb4",
    "vscode": {
     "languageId": "r"
    }
   },
   "outputs": [],
   "source": [
    "probabilidade <- \n",
    "probabilidade"
   ]
  },
  {
   "cell_type": "markdown",
   "metadata": {
    "id": "aW_bW_aWKWsO"
   },
   "source": [
    "Podemos usar também os valores normais, sem passar pela padronização. Para isso deixamos evidente em `pnorm()` os valores de média ($u$) e desvio padrão ($\\sigma$) do problema, visto que por padrão ele assume $u = 0$ e $\\sigma = 1$."
   ]
  },
  {
   "cell_type": "code",
   "execution_count": null,
   "metadata": {
    "colab": {
     "base_uri": "https://localhost:8080/",
     "height": 34
    },
    "id": "9f1tFOamKWsO",
    "outputId": "e443bc5e-f452-47a7-b329-280a25a4c096",
    "vscode": {
     "languageId": "r"
    }
   },
   "outputs": [],
   "source": []
  },
  {
   "cell_type": "markdown",
   "metadata": {
    "id": "2XUxb5ElObKz"
   },
   "source": [
    "## **3.4 Adicionando previsões na probabilidade**\n",
    "\n",
    "---\n",
    "\n"
   ]
  },
  {
   "cell_type": "markdown",
   "metadata": {
    "id": "CAYwWCHkObK0"
   },
   "source": [
    "### <font color=\"#E23155\" face=\"Verdana\">Case 8: Previsão de vendas</font>"
   ]
  },
  {
   "cell_type": "markdown",
   "metadata": {
    "id": "UA_Q98blObK0"
   },
   "source": [
    "Um analista financeiro de uma rede de restaurantes fez previsões para o próximo trimestre, projetando um **aumento de 20% nas vendas** e um **aumento de 30% na volatilidade (desvio padrão)** das vendas.\n",
    "\n",
    "Atualmente, o **valor médio de venda no trimestre é de R\\$ 250 mil**, com um **desvio padrão de R\\$ 100 mil**. A gestão da rede de restaurantes quer saber a probabilidade de o valor médio de venda estar **abaixo ou igual a R$ 300 mil** no próximo tri, planejando melhorias em algumas de suas unidades.\n"
   ]
  },
  {
   "cell_type": "markdown",
   "metadata": {
    "id": "STrQ4qh4ObK0"
   },
   "source": [
    "### <font color=\"#E23155\" face=\"Verdana\">Solução:</font>"
   ]
  },
  {
   "cell_type": "markdown",
   "metadata": {
    "id": "T-7aJzsFObK0"
   },
   "source": [
    "#### **Atualizando os valores de média e desvio padrão**"
   ]
  },
  {
   "cell_type": "code",
   "execution_count": null,
   "metadata": {
    "colab": {
     "base_uri": "https://localhost:8080/",
     "height": 34
    },
    "id": "QHnQThuXPqQM",
    "outputId": "5a677e95-5a9f-4704-ddee-f890a6c945d6",
    "vscode": {
     "languageId": "r"
    }
   },
   "outputs": [],
   "source": [
    "media_nova <- \n",
    "media_nova"
   ]
  },
  {
   "cell_type": "code",
   "execution_count": null,
   "metadata": {
    "colab": {
     "base_uri": "https://localhost:8080/",
     "height": 34
    },
    "id": "bQprWIXgPqLa",
    "outputId": "50097969-7157-40e9-c79a-3dff653a756e",
    "vscode": {
     "languageId": "r"
    }
   },
   "outputs": [],
   "source": [
    "desvio_padrao_novo <- \n",
    "desvio_padrao_novo"
   ]
  },
  {
   "cell_type": "markdown",
   "metadata": {
    "id": "kVxJLlfjObK0"
   },
   "source": [
    "#### **Calculando a probabilidade**"
   ]
  },
  {
   "cell_type": "code",
   "execution_count": null,
   "metadata": {
    "colab": {
     "base_uri": "https://localhost:8080/",
     "height": 34
    },
    "id": "SuNWAh32ObK0",
    "outputId": "f3488818-aece-4976-ae33-9530570364bd",
    "vscode": {
     "languageId": "r"
    }
   },
   "outputs": [],
   "source": []
  },
  {
   "cell_type": "markdown",
   "metadata": {},
   "source": [
    "#### **Distribuições simuladas**"
   ]
  },
  {
   "cell_type": "code",
   "execution_count": null,
   "metadata": {
    "vscode": {
     "languageId": "r"
    }
   },
   "outputs": [],
   "source": [
    "simula_curva_normal_antes <- \n",
    "simula_curva_normal_depois <- "
   ]
  },
  {
   "cell_type": "code",
   "execution_count": null,
   "metadata": {
    "vscode": {
     "languageId": "r"
    }
   },
   "outputs": [],
   "source": [
    "ggplot() +\n",
    "  geom_density(aes(simula_curva_normal_antes), color = \"blue\") +\n",
    "  geom_density(aes(simula_curva_normal_depois), color = \"red\")"
   ]
  },
  {
   "cell_type": "markdown",
   "metadata": {
    "id": "3yB1JjOYN94w"
   },
   "source": [
    "# **4. Estimação**\n",
    "\n",
    "---\n",
    "\n"
   ]
  },
  {
   "cell_type": "markdown",
   "metadata": {
    "id": "TiccSF91C05g"
   },
   "source": [
    "## **4.1 Aplicando a amostragem aleatória simples**\n",
    "\n",
    "---\n",
    "\n"
   ]
  },
  {
   "cell_type": "markdown",
   "metadata": {
    "id": "IJdflzbAC05g"
   },
   "source": [
    "### <font color=\"#E23155\" face=\"Verdana\">Case 9: Pesquisa de satisfação dos clientes</font>"
   ]
  },
  {
   "cell_type": "markdown",
   "metadata": {
    "id": "tCCHSkGhC05g"
   },
   "source": [
    "Um de nossos maiores clientes, a empresa e-commerce Zoop, quer realizar uma **pesquisa rápida** para avaliar a **satisfação dos clientes que realizaram 1 ou mais compras** no ano de 2023.\n",
    "\n",
    "Para isso, eles precisam realizar uma pesquisa de satisfação, mas pela breviedade necessária é inviável coletar respostas de todos os clientes.\n",
    "\n",
    "Como selecionar uma **amostra de clientes** que pode refletir a população de compradores(as) da Zoop?\n",
    "\n",
    "\n",
    "\n"
   ]
  },
  {
   "cell_type": "markdown",
   "metadata": {
    "id": "AeOH1K92KZGw"
   },
   "source": [
    "### **População e Amostra**\n",
    "\n",
    "População e amostra são conceitos estatísticos que representam o tamanho e a representatividade de um dado grupo\n",
    "\n",
    "#### **População**\n",
    "\n",
    "Conjunto de todos os elementos que possuem uma característica comum. Pode ser um grupo de pessoas, como os habitantes de uma cidade. Diversos elementos podem compor uma população: pessoas, carros, produtos, idades, etc. Ela pode ser:\n",
    "- Finita: permite contagem de elementos, exemplo, funcionários numa empresa ou alunos em uma escola\n",
    "- Infinita: não é possível contar seus elementos, porções de água do mar para análise, temperatura medida de cada ponto de um território\n",
    "\n",
    "#### **Amostra**\n",
    "\n",
    "É um subconjunto da população que pode ser selecionado para análises e inferências sobre toda a população. A partir dela podemos gerar estimativas e testar hipóteses sobre os parâmetros populacionais por meio dos parâmetros da população como sua média, variância e desvio padrão, são conhecidos como **parâmetros**.\n",
    "\n",
    "\n",
    "Existem diferentes métodos para selecionar uma amostra, como a amostragem aleatória, a amostragem por conveniência e a amostragem estratificada. Vamos trabalhar aqui neste exemplo com a **amostragem aleatória simples**."
   ]
  },
  {
   "cell_type": "markdown",
   "metadata": {
    "id": "iaCIolDCC05g"
   },
   "source": [
    "### <font color=\"#E23155\" face=\"Verdana\">Solução:</font>"
   ]
  },
  {
   "cell_type": "markdown",
   "metadata": {
    "id": "fqCaOXyaJo5i"
   },
   "source": [
    "Vamos realizar uma amostragem aleatória simples para garantir que o feedback seja representativo. Para isso leremos a base de dados com os dados de todas as vendas de eletrônicos e eletro domésticos da Zoop em 2023."
   ]
  },
  {
   "cell_type": "code",
   "execution_count": null,
   "metadata": {
    "id": "fcQGSaNSOLPg",
    "vscode": {
     "languageId": "r"
    }
   },
   "outputs": [],
   "source": [
    "dados <- read.csv(\"https://github.com/alura-cursos/estatistica-r-probabilidade-amostragem/raw/refs/heads/main/dados/zoop_vendas_2023.csv\")"
   ]
  },
  {
   "cell_type": "code",
   "execution_count": null,
   "metadata": {
    "colab": {
     "base_uri": "https://localhost:8080/",
     "height": 299
    },
    "id": "mLBLTXziQB0c",
    "outputId": "d921afa5-d2f3-44b4-cac3-800b7300310d",
    "vscode": {
     "languageId": "r"
    }
   },
   "outputs": [],
   "source": []
  },
  {
   "cell_type": "markdown",
   "metadata": {
    "id": "CCmYX3etPenY"
   },
   "source": [
    "#### **Parâmetros da população**"
   ]
  },
  {
   "cell_type": "code",
   "execution_count": null,
   "metadata": {
    "colab": {
     "base_uri": "https://localhost:8080/",
     "height": 34
    },
    "id": "mb_zG16-BSEX",
    "outputId": "1fe41da9-3a2a-4754-9a44-796fc5a8f005",
    "vscode": {
     "languageId": "r"
    }
   },
   "outputs": [],
   "source": []
  },
  {
   "cell_type": "code",
   "execution_count": null,
   "metadata": {
    "colab": {
     "base_uri": "https://localhost:8080/",
     "height": 34
    },
    "id": "TPRPhr_6BZJY",
    "outputId": "27422dd1-d63a-44e4-e8e7-ae3dc0919a1a",
    "vscode": {
     "languageId": "r"
    }
   },
   "outputs": [],
   "source": []
  },
  {
   "cell_type": "markdown",
   "metadata": {
    "id": "LfjFoRYiQr0m"
   },
   "source": [
    "#### **Realizando a amostragem**"
   ]
  },
  {
   "cell_type": "markdown",
   "metadata": {
    "id": "r5EL7bLkRH-r"
   },
   "source": [
    "*Quando utilizamos uma amostra?*\n",
    "\n",
    "1. **Populações infinitas:** quando não é possível investigar todos os elementos da população.\n",
    "\n",
    "2. **Testes destrutivos:** onde elementos avaliados são totalmente consumidos ou destruídos.\n",
    "    * Exemplo: testes de vida útil, testes de segurança contra colisões em automóveis, teste de qualidade do produto.\n",
    "\n",
    "3. **Resultados rápidos:** pesquisas que precisam de mais agilidade na divulgação.\n",
    "    * Exemplo: pesquisas de opinião, pesquisas que envolvam problemas de saúde pública.\n",
    "\n",
    "4. **Custos elevados:** Quando a população é finita mas muito numerosa, o custo de um censo pode tornar o processo inviável.\n"
   ]
  },
  {
   "cell_type": "code",
   "execution_count": null,
   "metadata": {
    "id": "mMNf8hZqBey4",
    "vscode": {
     "languageId": "r"
    }
   },
   "outputs": [],
   "source": []
  },
  {
   "cell_type": "code",
   "execution_count": null,
   "metadata": {
    "colab": {
     "base_uri": "https://localhost:8080/",
     "height": 34
    },
    "id": "5ENL98EkBevT",
    "outputId": "82a4f5c6-4325-48cb-ba05-6deccef9f7fa",
    "vscode": {
     "languageId": "r"
    }
   },
   "outputs": [],
   "source": []
  },
  {
   "cell_type": "code",
   "execution_count": null,
   "metadata": {
    "colab": {
     "base_uri": "https://localhost:8080/",
     "height": 34
    },
    "id": "W7EXIHeXBesS",
    "outputId": "6ee04739-9486-40e0-9789-71231052a8aa",
    "vscode": {
     "languageId": "r"
    }
   },
   "outputs": [],
   "source": []
  },
  {
   "cell_type": "markdown",
   "metadata": {
    "id": "-5nhK-4PQyeU"
   },
   "source": [
    "#### **Comparando a distribuição por região**"
   ]
  },
  {
   "cell_type": "code",
   "execution_count": null,
   "metadata": {
    "colab": {
     "base_uri": "https://localhost:8080/",
     "height": 69
    },
    "id": "NM8t4FxrBelX",
    "outputId": "12c4859a-d190-4015-eacc-8ec90dea4aee",
    "vscode": {
     "languageId": "r"
    }
   },
   "outputs": [],
   "source": []
  },
  {
   "cell_type": "code",
   "execution_count": null,
   "metadata": {
    "colab": {
     "base_uri": "https://localhost:8080/",
     "height": 69
    },
    "id": "r6FF13G4B-iH",
    "outputId": "397f8c76-e02a-42ce-8117-1ba99129351d",
    "vscode": {
     "languageId": "r"
    }
   },
   "outputs": [],
   "source": []
  },
  {
   "cell_type": "markdown",
   "metadata": {
    "id": "72_TCd1uTyr2"
   },
   "source": [
    "## **4.2 Compreendendo o nível de confiança e significância**\n",
    "\n",
    "---\n",
    "\n"
   ]
  },
  {
   "cell_type": "markdown",
   "metadata": {
    "id": "SOZpEP1zTyr3"
   },
   "source": [
    "### <font color=\"#E23155\" face=\"Verdana\">Case 10: Faixa de peso de produtos pelo lote</font>"
   ]
  },
  {
   "cell_type": "markdown",
   "metadata": {
    "id": "t2wBbwPyTyr3"
   },
   "source": [
    "Agora, estamos prestando consultoria a uma indústria alimentícia que produz diversos grãos, do processo que vai da colheita ao ensacamento.\n",
    "\n",
    "Estamos analisando os pesos dos sacos de arroz desta empresa, sendo que eles se distribuem aproximadamente como uma normal de **desvio padrão populacional igual a 150 g**. Selecionada uma **amostra aleatória de 30 sacos** de um lote específico, obteve-se um **peso médio de 5.050 g**.\n",
    "\n",
    "Precisamos construir um **intervalo de confiança para a média populacional** assumindo um **nível de significância de 5%**.\n",
    "\n",
    "\n"
   ]
  },
  {
   "cell_type": "markdown",
   "metadata": {
    "id": "e_lMTiOZTyr3"
   },
   "source": [
    "### **Nível de confiança e significância**\n",
    "\n",
    "O **nível de significância** ($\\alpha$) expressa a probabilidade de erro da estimativa. De forma complementar, o **nível de confiança** ($1 - \\alpha$) representa a probabilidade de acerto desta estimativa.\n",
    "\n",
    "O **nível de confiança** representa o grau de confiabilidade do resultado da estimativa estar dentro de determinado intervalo. Quando fixamos em uma pesquisa um **nível de confiança** de 95%, por exemplo, estamos assumindo que existe uma probabilidade de 95% dos resultados da pesquisa representarem bem a realidade, ou seja, estarem corretos.\n",
    "\n",
    "O **nível de confiança** de uma estimativa pode ser obtido a partir da área sob a curva normal como ilustrado na figura abaixo.\n",
    "\n",
    "<img src=\"https://github.com/alura-cursos/estatistica-r-probabilidade-amostragem/blob/main/imagens/outros/distribuicao-normal-confianca-significancia.png?raw=true\" alt=\"Distribuição Normal com nível de confiança e significância\" width=\"460\">"
   ]
  },
  {
   "cell_type": "markdown",
   "metadata": {
    "id": "KTmfPkQuROPG"
   },
   "source": [
    "Vamos então construindo aos poucos a solução deste problema?"
   ]
  },
  {
   "cell_type": "markdown",
   "metadata": {
    "id": "GksZEY9HTyr3"
   },
   "source": [
    "### <font color=\"#E23155\" face=\"Verdana\">Solução (Nível de confiança e $Z$):</font>"
   ]
  },
  {
   "cell_type": "markdown",
   "metadata": {
    "id": "Kqlv4WkVTyr4"
   },
   "source": [
    "#### **Média amostral**"
   ]
  },
  {
   "cell_type": "code",
   "execution_count": null,
   "metadata": {
    "colab": {
     "base_uri": "https://localhost:8080/",
     "height": 34
    },
    "id": "gX7sSjGPTyr4",
    "outputId": "e6597f8a-f188-475f-91eb-1dae66974e26",
    "vscode": {
     "languageId": "r"
    }
   },
   "outputs": [],
   "source": [
    "media_amostral <- \n",
    "media_amostral"
   ]
  },
  {
   "cell_type": "markdown",
   "metadata": {
    "id": "8tXrHm6JTyr4"
   },
   "source": [
    "#### **Nível de significância ($\\alpha$)**"
   ]
  },
  {
   "cell_type": "code",
   "execution_count": null,
   "metadata": {
    "colab": {
     "base_uri": "https://localhost:8080/",
     "height": 34
    },
    "id": "hY3My6CGTyr4",
    "outputId": "dcaf2a2c-9d37-42ee-fc83-a43ba54e9588",
    "vscode": {
     "languageId": "r"
    }
   },
   "outputs": [],
   "source": [
    "significancia <- \n",
    "significancia"
   ]
  },
  {
   "cell_type": "markdown",
   "metadata": {
    "id": "wDrXOcVUSjwH"
   },
   "source": [
    "#### **Nível de confiança ($1 - \\alpha$)**"
   ]
  },
  {
   "cell_type": "code",
   "execution_count": null,
   "metadata": {
    "colab": {
     "base_uri": "https://localhost:8080/",
     "height": 34
    },
    "id": "-1iS45hRSjwH",
    "outputId": "4d09841e-bff1-4d52-ab2d-1910ac4e5459",
    "vscode": {
     "languageId": "r"
    }
   },
   "outputs": [],
   "source": [
    "confianca <- \n",
    "confianca"
   ]
  },
  {
   "cell_type": "markdown",
   "metadata": {
    "id": "T97tkePXS0cp"
   },
   "source": [
    "#### **Obter a variável padronizada $Z$**\n",
    "\n",
    "&nbsp;\n",
    "\n",
    "<img src=\"https://github.com/alura-cursos/estatistica-r-probabilidade-amostragem/blob/main/imagens/outros/distribuicao-normal-confianca-95.png?raw=true\" alt=\"Distribuição Normal com nível de confiança de 95%\" width=\"460\">"
   ]
  },
  {
   "cell_type": "code",
   "execution_count": null,
   "metadata": {
    "colab": {
     "base_uri": "https://localhost:8080/",
     "height": 34
    },
    "id": "52GRnpELS0cq",
    "outputId": "97dcf401-0e94-44b8-b816-a83e58499f92",
    "vscode": {
     "languageId": "r"
    }
   },
   "outputs": [],
   "source": []
  },
  {
   "cell_type": "code",
   "execution_count": null,
   "metadata": {
    "colab": {
     "base_uri": "https://localhost:8080/",
     "height": 34
    },
    "id": "DAh6vgw0Uus0",
    "outputId": "c0cfaeae-937e-43af-d1c8-1ec77531f5e6",
    "vscode": {
     "languageId": "r"
    }
   },
   "outputs": [],
   "source": [
    "z <- \n",
    "z"
   ]
  },
  {
   "cell_type": "markdown",
   "metadata": {
    "id": "JCiAjSHTVrEb"
   },
   "source": [
    "### **Valores de $z$ para os níveis de confiança mais utilizados**\n",
    "\n",
    "|Nível de<br>confiança|Valor da área sob<br>a curva normal| $z$ |\n",
    "|:----------------:|:---------------------------------:|:---:|\n",
    "|90%               |0,95                               |1,645|\n",
    "|95%               |0,975                              |1,96 |\n",
    "|99%               |0,995                              |2,575|\n"
   ]
  },
  {
   "cell_type": "markdown",
   "metadata": {
    "id": "s0uM0bIQUisd"
   },
   "source": [
    "## **4.3 Calculando o erro inferencial e intervalo de confiança**\n",
    "\n",
    "---\n",
    "\n"
   ]
  },
  {
   "cell_type": "markdown",
   "metadata": {
    "id": "PRoQqaCNXnqj"
   },
   "source": [
    "### <font color=\"#E23155\" face=\"Verdana\">Case 10: Faixa de peso de produtos pelo lote</font>"
   ]
  },
  {
   "cell_type": "markdown",
   "metadata": {
    "id": "LbMAUN6RXnqk"
   },
   "source": [
    "Agora, estamos prestando consultoria a uma indústria alimentícia que produz diversos grãos, do processo que vai da colheita ao ensacamento.\n",
    "\n",
    "Estamos analisando os pesos dos sacos de arroz desta empresa, sendo que eles se distribuem aproximadamente como uma normal de **desvio padrão populacional igual a 150 g**. Selecionada uma **amostra aleatória de 30 sacos** de um lote específico, obteve-se um **peso médio de 5.050 g**.\n",
    "\n",
    "Precisamos construir um **intervalo de confiança para a média populacional** assumindo um **nível de significância de 5%**.\n",
    "\n",
    "\n"
   ]
  },
  {
   "cell_type": "markdown",
   "metadata": {},
   "source": [
    "### **Teorema do Limite Central**\n",
    "\n",
    "O **Teorema do Limite Central** afirma que, com o aumento do tamanho da amostra, a distribuição das médias amostrais se aproxima de uma distribuição normal com média igual à média da população e desvio padrão igual ao desvio padrão da variável original dividido pela raiz quadrada do tamanho da amostra. Este fato é assegurado para $n$ maior ou igual a 30.\n",
    "\n",
    "$$\\sigma_\\bar{x} = \\frac{\\sigma}{\\sqrt{n}}$$\n",
    "\n",
    "> O desvio padrão das médias amostrais é conhecido como **erro padrão da média**\n",
    "\n",
    "### **Erro inferencial**\n",
    "\n",
    "O **erro inferencial** indica a precisão da estimativa de um parâmetro populacional baseada em uma amostra aleatória. Ele é definido pelo **desvio padrão das médias amostrais** $\\sigma_\\bar{x}$ e pelo **nível de confiança** determinado para o processo.\n",
    "\n",
    "$$e = z \\times \\sigma_\\bar{x} = z \\frac{\\sigma}{\\sqrt{n}}$$"
   ]
  },
  {
   "cell_type": "markdown",
   "metadata": {
    "id": "7nuip_nsaDmk"
   },
   "source": [
    "### <font color=\"#E23155\" face=\"Verdana\">Solução (Erro inferencial e intervalo de confiança):</font>"
   ]
  },
  {
   "cell_type": "markdown",
   "metadata": {
    "id": "oLMK7Dz8Z0N2"
   },
   "source": [
    "#### **Obtendo $\\sigma_\\bar{x}$**"
   ]
  },
  {
   "cell_type": "code",
   "execution_count": null,
   "metadata": {
    "colab": {
     "base_uri": "https://localhost:8080/",
     "height": 34
    },
    "id": "J9b2M7lGaeGp",
    "outputId": "f8fe8c7b-88bc-4706-9730-cfcf49fb7767",
    "vscode": {
     "languageId": "r"
    }
   },
   "outputs": [],
   "source": [
    "desvio_padrao <- \n",
    "desvio_padrao"
   ]
  },
  {
   "cell_type": "code",
   "execution_count": null,
   "metadata": {
    "colab": {
     "base_uri": "https://localhost:8080/",
     "height": 34
    },
    "id": "JSdQPpKYaeGq",
    "outputId": "5501a9f0-7256-47a6-f95b-19e22639ac1a",
    "vscode": {
     "languageId": "r"
    }
   },
   "outputs": [],
   "source": [
    "n <- \n",
    "n"
   ]
  },
  {
   "cell_type": "code",
   "execution_count": null,
   "metadata": {
    "colab": {
     "base_uri": "https://localhost:8080/",
     "height": 34
    },
    "id": "i0K5tA2CZ0N2",
    "outputId": "09fb5276-d2ef-4e6e-8049-3e8fe2b2bbbb",
    "vscode": {
     "languageId": "r"
    }
   },
   "outputs": [],
   "source": [
    "raiz_n <- \n",
    "raiz_n"
   ]
  },
  {
   "cell_type": "code",
   "execution_count": null,
   "metadata": {
    "colab": {
     "base_uri": "https://localhost:8080/",
     "height": 34
    },
    "id": "DoGQ43vnalPZ",
    "outputId": "81e375ea-fd3d-450d-f0a8-620962d9c98b",
    "vscode": {
     "languageId": "r"
    }
   },
   "outputs": [],
   "source": [
    "sigma <- \n",
    "sigma"
   ]
  },
  {
   "cell_type": "markdown",
   "metadata": {
    "id": "rzWMQqxbZ0N3"
   },
   "source": [
    "#### **Obtendo $e$**"
   ]
  },
  {
   "cell_type": "code",
   "execution_count": null,
   "metadata": {
    "colab": {
     "base_uri": "https://localhost:8080/",
     "height": 34
    },
    "id": "HnbOVoSuZ0N3",
    "outputId": "cdf4a3ab-01ad-424f-e5e1-57749cc62e8e",
    "vscode": {
     "languageId": "r"
    }
   },
   "outputs": [],
   "source": [
    "e <- \n",
    "e"
   ]
  },
  {
   "cell_type": "markdown",
   "metadata": {},
   "source": [
    "### **Intervalo de confiança**\n",
    "\n",
    "O **intervalo de confiança** representa um intervalo numérico para os parâmetros populacionais, como a **média** ou **desvio padrão**. É uma medida de incerteza que ajuda a avaliar a precisão e a confiabilidade das estimativas e é frequentemente utilizado para deduzir informações sobre a população a partir de amostras.\n",
    "\n",
    "#### **Com desvio padrão populacional conhecido**\n",
    "\n",
    "$$\\mu = \\bar{x} \\pm z\\frac{\\sigma}{\\sqrt{n}}$$\n",
    "\n",
    "#### **Com desvio padrão populacional desconhecido**\n",
    "\n",
    "$$\\mu = \\bar{x} \\pm z\\frac{s}{\\sqrt{n}}$$"
   ]
  },
  {
   "cell_type": "markdown",
   "metadata": {
    "id": "JmWn-a81Z0N3"
   },
   "source": [
    "#### **Solução 1: Calculando o intervalo de confiança para a média**"
   ]
  },
  {
   "cell_type": "code",
   "execution_count": null,
   "metadata": {
    "colab": {
     "base_uri": "https://localhost:8080/"
    },
    "id": "aSTnD-RqZ0N3",
    "outputId": "2a9847d8-2643-481e-b6d4-59dd73837d8e",
    "vscode": {
     "languageId": "r"
    }
   },
   "outputs": [],
   "source": [
    "cat(\"O intervalo de confiança para os sacos de arroz é:\\nMínimo:\", media_amostral - e, \"\\nMáximo:\", media_amostral + e)"
   ]
  },
  {
   "cell_type": "markdown",
   "metadata": {
    "id": "XasCTk2FbLWJ"
   },
   "source": [
    "#### **Solução 2: Calculando o intervalo de confiança para a média**"
   ]
  },
  {
   "cell_type": "markdown",
   "metadata": {
    "id": "LKyRIdzvL_sg"
   },
   "source": [
    "> **Documentações:**\n",
    ">\n",
    "> - [**MeanCI**](https://www.rdocumentation.org/packages/DescTools/versions/0.99.30/topics/MeanCI)"
   ]
  },
  {
   "cell_type": "markdown",
   "metadata": {
    "id": "V2_DZquo5oPN"
   },
   "source": [
    "Instalação rápida do pacote DescTools"
   ]
  },
  {
   "cell_type": "code",
   "execution_count": null,
   "metadata": {
    "id": "8DOCe8Vq_Cff",
    "vscode": {
     "languageId": "r"
    }
   },
   "outputs": [],
   "source": [
    "# Baixando o arquivo de ambiente do R\n",
    "R_environment_file <- \"https://github.com/alura-cursos/estatistica-r-probabilidade-amostragem/raw/refs/heads/main/libs/library.tar.gz\"\n",
    "download.file(R_environment_file, destfile=\"./library.tar.gz\")\n",
    "\n",
    "# unzip do arquivo library do R: 'library.tar.gz' para a pasta library do R\n",
    "untar(\"library.tar.gz\", \"library\")\n",
    "\n",
    "# Mudando a pasta das libs do R para './library'\n",
    ".libPaths(\"library\")"
   ]
  },
  {
   "cell_type": "code",
   "execution_count": null,
   "metadata": {
    "id": "lDcqR_G6iKQR",
    "vscode": {
     "languageId": "r"
    }
   },
   "outputs": [],
   "source": [
    "library(DescTools)"
   ]
  },
  {
   "cell_type": "code",
   "execution_count": null,
   "metadata": {
    "colab": {
     "base_uri": "https://localhost:8080/",
     "height": 34
    },
    "id": "lvjC20cMiNLY",
    "outputId": "06e911e1-4c0f-432b-e0b2-1182dcc32951",
    "vscode": {
     "languageId": "r"
    }
   },
   "outputs": [],
   "source": [
    "int_confianca <- MeanCI(x = ..., sd = ..., type = ..., conf.level = ..., sides = ...)\n",
    "int_confianca"
   ]
  },
  {
   "cell_type": "code",
   "execution_count": null,
   "metadata": {
    "colab": {
     "base_uri": "https://localhost:8080/"
    },
    "id": "QRzy3XvpjU8w",
    "outputId": "987cdd2d-eda3-4c34-ee2f-0440b95023fe",
    "vscode": {
     "languageId": "r"
    }
   },
   "outputs": [],
   "source": [
    "cat(\"O intervalo de confiança para os sacos de arroz é:\\nMínimo:\", int_confianca[\"lwr.ci\"], \"\\nMáximo:\", int_confianca[\"upr.ci\"])"
   ]
  },
  {
   "cell_type": "markdown",
   "metadata": {
    "id": "mIIduoNUN-Ot"
   },
   "source": [
    "# **5. Cálculo do tamanho da amostra**\n",
    "\n",
    "---\n",
    "\n"
   ]
  },
  {
   "cell_type": "markdown",
   "metadata": {
    "id": "VU21EIYoOT0g"
   },
   "source": [
    "## **5.1 Definindo tamanho de amostra para população infinita**\n",
    "\n",
    "---\n",
    "\n"
   ]
  },
  {
   "cell_type": "markdown",
   "metadata": {
    "id": "28TnCZGXOT0j"
   },
   "source": [
    "### <font color=\"#E23155\" face=\"Verdana\">Case 11: Pesquisa do perfil do público por idade</font>"
   ]
  },
  {
   "cell_type": "markdown",
   "metadata": {
    "id": "shN52prnOT0k"
   },
   "source": [
    "Um de nossos maiores clientes, a empresa e-commerce Zoop, quer realizar uma pesquisa a respeito do perfil do seu público pela **faixa de idade** segundo os dados de 2023.\n",
    "\n",
    "O nosso cliente determinou que o **erro máximo em relação a média seja de 1 ano**. Sabemos que o **desvio padrão populacional** deste grupo de clientes é de **9,60 anos**. Para um **nível de confiança de 99%**, qual deve ser o tamanho da amostra para esta pesquisa?\n",
    "\n",
    "\n",
    "\n"
   ]
  },
  {
   "cell_type": "markdown",
   "metadata": {
    "id": "gga08nGLOT0l"
   },
   "source": [
    "### **Variáveis quantitativas e população infinita**\n",
    "\n",
    "$e = z \\frac{\\sigma}{\\sqrt{n}}$\n",
    "\n",
    "&nbsp;\n",
    "\n",
    "#### **Com desvio padrão conhecido**\n",
    "\n",
    "$$n = \\left(z\\frac{\\sigma}{e}\\right)^2$$\n",
    "\n",
    "#### **Com desvio padrão desconhecido**\n",
    "\n",
    "$$n = \\left(z\\frac{s}{e}\\right)^2$$\n",
    "\n",
    "Onde:\n",
    "\n",
    "$z$ = variável normal padronizada\n",
    "\n",
    "$\\sigma$ = desvio padrão populacional\n",
    "\n",
    "$s$ = desvio padrão amostral\n",
    "\n",
    "$e$ = erro inferencial\n",
    "\n",
    "### **Observações**\n",
    "\n",
    "1. O desvio padrão ($\\sigma$ ou $s$) e o erro ($e$) devem estar na mesma unidade de medida.\n",
    "\n",
    "2. Quando o erro ($e$) for representado em termos percentuais, deve ser interpretado como um percentual relacionado à média."
   ]
  },
  {
   "cell_type": "markdown",
   "metadata": {
    "id": "KkiaBdLwdc1-"
   },
   "source": [
    "### <font color=\"#E23155\" face=\"Verdana\">Solução:</font>"
   ]
  },
  {
   "cell_type": "markdown",
   "metadata": {
    "id": "VevQwFNYe7P_"
   },
   "source": [
    "#### **Obtendo $z$**"
   ]
  },
  {
   "cell_type": "code",
   "execution_count": null,
   "metadata": {
    "colab": {
     "base_uri": "https://localhost:8080/",
     "height": 34
    },
    "id": "3DDvRMZsfTYp",
    "outputId": "992d113f-fc5a-40cb-a2f6-f6a6c1a0492c",
    "vscode": {
     "languageId": "r"
    }
   },
   "outputs": [],
   "source": [
    "area <- \n",
    "area"
   ]
  },
  {
   "cell_type": "code",
   "execution_count": null,
   "metadata": {
    "colab": {
     "base_uri": "https://localhost:8080/",
     "height": 34
    },
    "id": "oGRuI-MXe7QA",
    "outputId": "46010369-de13-43d4-9a07-6975f8c238ca",
    "trusted": true,
    "vscode": {
     "languageId": "r"
    }
   },
   "outputs": [],
   "source": [
    "z <- \n",
    "z"
   ]
  },
  {
   "cell_type": "markdown",
   "metadata": {
    "id": "E9Ll6lvme7QA"
   },
   "source": [
    "#### **Obtendo $\\sigma$**"
   ]
  },
  {
   "cell_type": "code",
   "execution_count": null,
   "metadata": {
    "colab": {
     "base_uri": "https://localhost:8080/",
     "height": 34
    },
    "id": "Mav7RD0ce7QA",
    "outputId": "be2c2c50-8f62-4e05-9d6e-36730dd86b3c",
    "trusted": true,
    "vscode": {
     "languageId": "r"
    }
   },
   "outputs": [],
   "source": [
    "sigma <- \n",
    "sigma"
   ]
  },
  {
   "cell_type": "markdown",
   "metadata": {
    "id": "eLbM4Bade7QB"
   },
   "source": [
    "#### **Obtendo $e$**"
   ]
  },
  {
   "cell_type": "code",
   "execution_count": null,
   "metadata": {
    "colab": {
     "base_uri": "https://localhost:8080/",
     "height": 34
    },
    "id": "M5VPISYZe7QB",
    "outputId": "c8035e8d-cf9c-49b5-a177-67b13379f75b",
    "trusted": true,
    "vscode": {
     "languageId": "r"
    }
   },
   "outputs": [],
   "source": [
    "e <- \n",
    "e"
   ]
  },
  {
   "cell_type": "markdown",
   "metadata": {
    "id": "Rt9RpNh8e7QB"
   },
   "source": [
    "#### **Calculando o $n$**\n",
    "\n",
    "$$n = \\left(z\\frac{\\sigma}{e}\\right)^2$$"
   ]
  },
  {
   "cell_type": "code",
   "execution_count": null,
   "metadata": {
    "colab": {
     "base_uri": "https://localhost:8080/",
     "height": 34
    },
    "id": "wHIqYHeoe7QC",
    "outputId": "af9fa0f4-4cf8-48e2-8030-45a9172c72cd",
    "scrolled": true,
    "trusted": true,
    "vscode": {
     "languageId": "r"
    }
   },
   "outputs": [],
   "source": [
    "n <- \n",
    "round(n)"
   ]
  },
  {
   "cell_type": "markdown",
   "metadata": {
    "id": "UJ2gmXDoNbGN"
   },
   "source": [
    "## **5.2 Definindo tamanho de amostra para população finita**\n",
    "\n",
    "---\n",
    "\n"
   ]
  },
  {
   "cell_type": "markdown",
   "metadata": {
    "id": "LG3HdhBSNbGO"
   },
   "source": [
    "### <font color=\"#E23155\" face=\"Verdana\">Case 12: Definindo o tamanho da amostra de um produto</font>"
   ]
  },
  {
   "cell_type": "markdown",
   "metadata": {
    "id": "qDOhraI4NbGP"
   },
   "source": [
    "Nosso novo case envolve a consultoria a uma indústria que produz bebidas, como refrigerantes e energéticos.\n",
    "\n",
    "Em um lote de **10.000 latas** de refrigerante foi realizada uma amostra aleatória simples de **100 latas** e foi obtido o **desvio padrão amostral do conteúdo das latas igual a 12 ml**. Para a qualidade de entrega do produto, o fabricante estipula um **erro máximo sobre a média populacional de apenas 5 ml**.\n",
    "\n",
    "Para garantir um **nível de confiança de 95%** qual o tamanho de amostra deve ser selecionado para este estudo?"
   ]
  },
  {
   "cell_type": "markdown",
   "metadata": {
    "id": "cWgZAv6INbGQ"
   },
   "source": [
    "### **Variáveis quantitativas e população finita**\n",
    "\n",
    "#### **Com desvio padrão conhecido**\n",
    "\n",
    "$$n = \\frac{z^2 \\sigma^2 N}{z^2 \\sigma^2 + e^2(N-1)}$$\n",
    "\n",
    "#### **Com desvio padrão desconhecido**\n",
    "\n",
    "$$n = \\frac{z^2 s^2 N}{z^2 s^2 + e^2(N-1)}$$\n",
    "\n",
    "Onde:\n",
    "\n",
    "$N$ = tamanho da população\n",
    "\n",
    "$z$ = variável normal padronizada\n",
    "\n",
    "$\\sigma$ = desvio padrão populacional\n",
    "\n",
    "$s$ = desvio padrão amostral\n",
    "\n",
    "$e$ = erro inferencial"
   ]
  },
  {
   "cell_type": "markdown",
   "metadata": {
    "id": "ilcmX9XPS9VF"
   },
   "source": [
    "### <font color=\"#E23155\" face=\"Verdana\">Solução:</font>"
   ]
  },
  {
   "cell_type": "markdown",
   "metadata": {
    "id": "_y3-3VIBTyNS"
   },
   "source": [
    "#### **Obtendo $N$**"
   ]
  },
  {
   "cell_type": "code",
   "execution_count": null,
   "metadata": {
    "colab": {
     "base_uri": "https://localhost:8080/",
     "height": 34
    },
    "id": "gXWn9zTETyNS",
    "outputId": "f7524ea6-0281-4f43-f9f0-ae744569e1bb",
    "trusted": true,
    "vscode": {
     "languageId": "r"
    }
   },
   "outputs": [],
   "source": [
    "N <- \n",
    "N"
   ]
  },
  {
   "cell_type": "markdown",
   "metadata": {
    "id": "xCgZ1JSjTyNT"
   },
   "source": [
    "#### **Obtendo $z$**"
   ]
  },
  {
   "cell_type": "code",
   "execution_count": null,
   "metadata": {
    "colab": {
     "base_uri": "https://localhost:8080/",
     "height": 34
    },
    "id": "ZUs9aYJRTyNT",
    "outputId": "e30b4488-d999-402b-af66-a002fad88bec",
    "trusted": true,
    "vscode": {
     "languageId": "r"
    }
   },
   "outputs": [],
   "source": [
    "z <- \n",
    "z"
   ]
  },
  {
   "cell_type": "markdown",
   "metadata": {
    "id": "KCnigJd8TyNU"
   },
   "source": [
    "#### **Obtendo $s$**"
   ]
  },
  {
   "cell_type": "code",
   "execution_count": null,
   "metadata": {
    "colab": {
     "base_uri": "https://localhost:8080/",
     "height": 34
    },
    "id": "fKqFI_TZTyNU",
    "outputId": "7cf33703-3068-4cc5-9fd8-45d450690623",
    "trusted": true,
    "vscode": {
     "languageId": "r"
    }
   },
   "outputs": [],
   "source": [
    "s <- \n",
    "s"
   ]
  },
  {
   "cell_type": "markdown",
   "metadata": {
    "id": "K9gDEIUdTyNX"
   },
   "source": [
    "#### **Obtendo $e$**"
   ]
  },
  {
   "cell_type": "code",
   "execution_count": null,
   "metadata": {
    "colab": {
     "base_uri": "https://localhost:8080/",
     "height": 34
    },
    "id": "hyhJ3MQKTyNX",
    "outputId": "a4b88baf-f2ba-4993-841b-d49d6e898041",
    "trusted": true,
    "vscode": {
     "languageId": "r"
    }
   },
   "outputs": [],
   "source": [
    "e <- \n",
    "e"
   ]
  },
  {
   "cell_type": "markdown",
   "metadata": {
    "id": "Dsm3bg9gTyNX"
   },
   "source": [
    "#### **Calculando o $n$**\n",
    "\n",
    "$$n = \\frac{z^2 s^2 N}{z^2 s^2 + e^2(N-1)}$$"
   ]
  },
  {
   "cell_type": "code",
   "execution_count": null,
   "metadata": {
    "colab": {
     "base_uri": "https://localhost:8080/",
     "height": 34
    },
    "id": "0XxWfaPdTyNY",
    "outputId": "0969e73f-277c-4580-8e5e-3ae2784189c1",
    "scrolled": true,
    "trusted": true,
    "vscode": {
     "languageId": "r"
    }
   },
   "outputs": [],
   "source": [
    "n <- \n",
    "round(n)"
   ]
  },
  {
   "cell_type": "markdown",
   "metadata": {
    "id": "RtnP3CKeen-c"
   },
   "source": [
    "## **5.3 Adequando o tamanho de amostra para diferentes casos**\n",
    "\n",
    "---\n",
    "\n"
   ]
  },
  {
   "cell_type": "markdown",
   "metadata": {
    "id": "i0-JWd8Nen-c"
   },
   "source": [
    "### <font color=\"#E23155\" face=\"Verdana\">Case 13: Escolhendo a amostra adequada para os parâmetros da pesquisa</font>"
   ]
  },
  {
   "cell_type": "markdown",
   "metadata": {
    "id": "gzZiiRrpen-c"
   },
   "source": [
    "Para nosso último case, a Zoop gostaria de realizar uma pesquisa acerca do perfil do seu público na região que mais possuem clientes (Sudeste) utilizando a **faixa de idade** como critério principal.\n",
    "\n",
    "Neste caso, precisaremos definir qual seria a amostra adequada para a realização dessa pesquisa. O nosso cliente determinou que o **erro máximo em relação a média seja de 1 ano**. Obtenha as informações abaixo:\n",
    "\n",
    "1. Qual deve ser o tamanho da amostra para a pesquisa para:\n",
    "    * nível de confiança de **90%**\n",
    "    * nível de confiança de **95%**\n",
    "    * nível de confiança de **99%**\n",
    "\n",
    "2. Sabendo que os recursos para as pesquisas aceitam até 500 entrevistados(as), qual a maior amostra possível dentre os níveis de confiança? Qual é  o intervalo de confiança para a média considerando esse tamanho de amostra?\n",
    "\n",
    "3. Apresente uma prova gráfica, simulando amostras de idades do problema em questão para o nível de confiança escolhido.\n",
    "\n",
    "\n",
    "\n"
   ]
  },
  {
   "cell_type": "markdown",
   "metadata": {
    "id": "mno4pKzQ4ncx"
   },
   "source": [
    "### <font color=\"#E23155\" face=\"Verdana\">Solução:</font>"
   ]
  },
  {
   "cell_type": "markdown",
   "metadata": {
    "id": "txv2JPPG5vUt"
   },
   "source": [
    "#### **Calculando a média e desvio padrão populacional dos dados**"
   ]
  },
  {
   "cell_type": "code",
   "execution_count": null,
   "metadata": {
    "id": "sO3lBibSen-d",
    "vscode": {
     "languageId": "r"
    }
   },
   "outputs": [],
   "source": [
    "dados <- read.csv(\"https://github.com/alura-cursos/estatistica-r-probabilidade-amostragem/raw/refs/heads/main/dados/zoop_clientes_2023.csv\")"
   ]
  },
  {
   "cell_type": "code",
   "execution_count": null,
   "metadata": {
    "id": "pcbrcsH49Lhd",
    "vscode": {
     "languageId": "r"
    }
   },
   "outputs": [],
   "source": []
  },
  {
   "cell_type": "code",
   "execution_count": null,
   "metadata": {
    "colab": {
     "base_uri": "https://localhost:8080/",
     "height": 34
    },
    "id": "LMgoQEQk5vUu",
    "outputId": "49beb9c2-d361-46dc-cc29-2c74c7a53a07",
    "trusted": true,
    "vscode": {
     "languageId": "r"
    }
   },
   "outputs": [],
   "source": [
    "media <- \n",
    "media"
   ]
  },
  {
   "cell_type": "code",
   "execution_count": null,
   "metadata": {
    "colab": {
     "base_uri": "https://localhost:8080/",
     "height": 34
    },
    "id": "a-IyWscc5vUu",
    "outputId": "79c04de4-e688-4a38-e044-0d15fc99fdd9",
    "trusted": true,
    "vscode": {
     "languageId": "r"
    }
   },
   "outputs": [],
   "source": [
    "sigma <- \n",
    "sigma"
   ]
  },
  {
   "cell_type": "markdown",
   "metadata": {
    "id": "lJNjlw-T_qln"
   },
   "source": [
    "#### **Calculando o tamanho da amostra para cada nível de confiança**\n",
    "\n",
    "$$n = \\left(z\\frac{\\sigma}{e}\\right)^2$$"
   ]
  },
  {
   "cell_type": "markdown",
   "metadata": {
    "id": "FuU_OrVb5vUx"
   },
   "source": [
    "##### **Tamanho da amostra ($1 - \\alpha = 90\\%$)**"
   ]
  },
  {
   "cell_type": "code",
   "execution_count": null,
   "metadata": {
    "id": "UhgfIMCa5vU6",
    "outputId": "5c4ac2b6-2078-4bed-a5b6-e66601dc340c",
    "trusted": true,
    "vscode": {
     "languageId": "r"
    }
   },
   "outputs": [],
   "source": []
  },
  {
   "cell_type": "code",
   "execution_count": null,
   "metadata": {
    "colab": {
     "base_uri": "https://localhost:8080/"
    },
    "id": "8OC6iT475vU7",
    "outputId": "d23c1444-a4f1-4483-9a27-34eed000054f",
    "trusted": true,
    "vscode": {
     "languageId": "r"
    }
   },
   "outputs": [],
   "source": [
    "z <- \n",
    "e <- \n",
    "n_confianca_90 <- \n",
    "n_confianca_90 <- round(n_confianca_90)\n",
    "cat(\"Para um nível de confiança de 90% devemos selecionar uma amostra de\", n_confianca_90, \"elementos.\")"
   ]
  },
  {
   "cell_type": "markdown",
   "metadata": {
    "id": "jAu6dV9_5vU8"
   },
   "source": [
    "##### **Tamanho da amostra ($1 - \\alpha = 95\\%$)**"
   ]
  },
  {
   "cell_type": "code",
   "execution_count": null,
   "metadata": {
    "colab": {
     "base_uri": "https://localhost:8080/",
     "height": 34
    },
    "id": "GGzM4n5F5vU8",
    "outputId": "631df3b3-4cd1-4e4a-8777-77c5e57707e7",
    "trusted": true,
    "vscode": {
     "languageId": "r"
    }
   },
   "outputs": [],
   "source": []
  },
  {
   "cell_type": "code",
   "execution_count": null,
   "metadata": {
    "colab": {
     "base_uri": "https://localhost:8080/"
    },
    "id": "2s2w2p2-5vU9",
    "outputId": "94fc047e-35db-41d5-f5de-8d11498fac5c",
    "trusted": true,
    "vscode": {
     "languageId": "r"
    }
   },
   "outputs": [],
   "source": [
    "z <- \n",
    "n_confianca_95 <- \n",
    "n_confianca_95 <- round(n_confianca_95)\n",
    "cat(\"Para um nível de confiança de 95% devemos selecionar uma amostra de\", n_confianca_95, \"elementos.\")"
   ]
  },
  {
   "cell_type": "markdown",
   "metadata": {
    "id": "4S9T89ld5vU-"
   },
   "source": [
    "##### **Tamanho da amostra ($1 - \\alpha = 99\\%$)**"
   ]
  },
  {
   "cell_type": "code",
   "execution_count": null,
   "metadata": {
    "colab": {
     "base_uri": "https://localhost:8080/",
     "height": 34
    },
    "id": "PXT0_KVv5vU-",
    "outputId": "057def30-2be3-4fae-bf83-d07820fefe12",
    "trusted": true,
    "vscode": {
     "languageId": "r"
    }
   },
   "outputs": [],
   "source": []
  },
  {
   "cell_type": "code",
   "execution_count": null,
   "metadata": {
    "colab": {
     "base_uri": "https://localhost:8080/"
    },
    "id": "u2YFaisU5vU-",
    "outputId": "10e45bd7-2687-4132-8ea8-d88adc74b6a1",
    "trusted": true,
    "vscode": {
     "languageId": "r"
    }
   },
   "outputs": [],
   "source": [
    "z <- \n",
    "n_confianca_99 <- \n",
    "n_confianca_99 <- round(n_confianca_99)\n",
    "cat(\"Para um nível de confiança de 99% devemos selecionar uma amostra de\", n_confianca_99, \"elementos.\")"
   ]
  },
  {
   "cell_type": "markdown",
   "metadata": {
    "id": "nKdKGmhI5vVB"
   },
   "source": [
    "#### **Calculando o intervalo de confiança**\n"
   ]
  },
  {
   "cell_type": "code",
   "execution_count": null,
   "metadata": {
    "id": "6mtDs4mD5vVC",
    "trusted": true,
    "vscode": {
     "languageId": "r"
    }
   },
   "outputs": [],
   "source": []
  },
  {
   "cell_type": "code",
   "execution_count": null,
   "metadata": {
    "colab": {
     "base_uri": "https://localhost:8080/",
     "height": 34
    },
    "id": "yBTnwiBY5oPe",
    "outputId": "0dcc199a-2e2f-4b86-c8ea-7acad6471b5b",
    "trusted": true,
    "vscode": {
     "languageId": "r"
    }
   },
   "outputs": [],
   "source": []
  },
  {
   "cell_type": "code",
   "execution_count": null,
   "metadata": {
    "colab": {
     "base_uri": "https://localhost:8080/",
     "height": 34
    },
    "id": "v_KC4zQd5oPf",
    "outputId": "d4affb1e-ea9a-4a4c-8f23-c36156403516",
    "trusted": true,
    "vscode": {
     "languageId": "r"
    }
   },
   "outputs": [],
   "source": []
  },
  {
   "cell_type": "code",
   "execution_count": null,
   "metadata": {
    "colab": {
     "base_uri": "https://localhost:8080/",
     "height": 34
    },
    "id": "LKri2es25oPf",
    "outputId": "20b9ff82-99e0-493a-e031-7bc8f21fe69c",
    "trusted": true,
    "vscode": {
     "languageId": "r"
    }
   },
   "outputs": [],
   "source": []
  },
  {
   "cell_type": "markdown",
   "metadata": {
    "id": "xWAG8q8oG3H8"
   },
   "source": [
    "### Realizando uma prova gráfica"
   ]
  },
  {
   "cell_type": "code",
   "execution_count": null,
   "metadata": {
    "colab": {
     "base_uri": "https://localhost:8080/",
     "height": 377
    },
    "id": "nm0vSVhC5oPf",
    "outputId": "7f00e2d5-5abf-4b46-c4a9-7a50c30d2078",
    "trusted": true,
    "vscode": {
     "languageId": "r"
    }
   },
   "outputs": [],
   "source": [
    "options(repr.plot.width = 10, repr.plot.height = 6)\n",
    "tamanho_simulacao = 500\n",
    "medias <- c()\n",
    "\n",
    "for(i in 1:tamanho_simulacao){\n",
    "    medias <- c(medias, mean(sample_n(dados_sudeste, n_confianca_95)$idade_cliente))\n",
    "}\n",
    "medias <- data.frame(medias)\n",
    "\n",
    "ggplot(data = medias, aes(x = c(1:tamanho_simulacao), y = medias)) +\n",
    "    geom_point(size = 2.5, stroke = 0) +\n",
    "    geom_hline(yintercept = media, color = 'green') +\n",
    "    geom_hline(yintercept = limite_inferior, color = 'red') +\n",
    "    geom_hline(yintercept = limite_superior, color = 'red')"
   ]
  }
 ],
 "metadata": {
  "colab": {
   "provenance": []
  },
  "kernelspec": {
   "display_name": "R",
   "language": "R",
   "name": "ir"
  },
  "language_info": {
   "name": "R"
  }
 },
 "nbformat": 4,
 "nbformat_minor": 0
}
