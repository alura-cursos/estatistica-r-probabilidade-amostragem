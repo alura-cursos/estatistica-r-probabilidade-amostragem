{
  "cells": [
    {
      "cell_type": "code",
      "execution_count": 1,
      "metadata": {
        "id": "1mL0LTG8e9dn",
        "vscode": {
          "languageId": "r"
        }
      },
      "outputs": [],
      "source": [
        "# create a folder called \"library\"\n",
        "system(\"mkdir library\")\n",
        "\n",
        "# set the R default library path to the \"library\" folder we have created just now\n",
        ".libPaths(\"library\")"
      ]
    },
    {
      "cell_type": "code",
      "execution_count": 2,
      "metadata": {
        "colab": {
          "base_uri": "https://localhost:8080/"
        },
        "id": "JTWueeFvfSiJ",
        "outputId": "c318648d-67b4-4144-804d-2324d30a9edf",
        "vscode": {
          "languageId": "r"
        }
      },
      "outputs": [
        {
          "name": "stderr",
          "output_type": "stream",
          "text": [
            "Installing package into ‘/content/library’\n",
            "(as ‘lib’ is unspecified)\n",
            "\n",
            "also installing the dependencies ‘proxy’, ‘rootSolve’, ‘e1071’, ‘lmom’, ‘mvtnorm’, ‘expm’, ‘Exact’, ‘gld’\n",
            "\n",
            "\n"
          ]
        }
      ],
      "source": [
        "packageurl <- \"https://cran.r-project.org/src/contrib/Archive/DescTools/DescTools_0.99.57.tar.gz\"\n",
        "install.packages(packageurl, repos=NULL, type=\"source\")\n",
        "\n",
        "library(DescTools)"
      ]
    },
    {
      "cell_type": "code",
      "execution_count": 3,
      "metadata": {
        "id": "O1zm3hXkfSfb",
        "vscode": {
          "languageId": "r"
        }
      },
      "outputs": [],
      "source": [
        "tar('library.tar.gz', \"library\")"
      ]
    }
  ],
  "metadata": {
    "colab": {
      "provenance": []
    },
    "kernelspec": {
      "display_name": "R",
      "name": "ir"
    },
    "language_info": {
      "name": "R"
    }
  },
  "nbformat": 4,
  "nbformat_minor": 0
}
